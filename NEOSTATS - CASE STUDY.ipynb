{
 "cells": [
  {
   "cell_type": "markdown",
   "id": "9a97bbe2",
   "metadata": {},
   "source": [
    "# Banking Business Case"
   ]
  },
  {
   "cell_type": "markdown",
   "id": "5d2631e9",
   "metadata": {},
   "source": [
    "**Problem Statement:** A major bank in Middle East came to NeoStats with help in analysing its current \n",
    "customer base and its marketing campaigns. It wants to understand which customers are most likely \n",
    "to take a term deposit (fixed deposit), and then send this list to their call centre."
   ]
  },
  {
   "cell_type": "code",
   "execution_count": 508,
   "id": "4aafc986",
   "metadata": {},
   "outputs": [],
   "source": [
    "#importing the libraries-\n",
    "import  pandas as pd \n",
    "import numpy as np\n",
    "import seaborn as sns\n",
    "import matplotlib.pyplot as plt\n",
    "from sklearn.model_selection import train_test_split\n",
    "from sklearn.preprocessing import StandardScaler\n",
    "from sklearn.naive_bayes import GaussianNB\n",
    "from sklearn.datasets import load_iris\n",
    "from sklearn import metrics\n",
    "from sklearn.linear_model import LogisticRegression\n",
    "from sklearn.metrics import classification_report\n",
    "from sklearn.metrics import cohen_kappa_score,recall_score,precision_score,f1_score,roc_auc_score\n",
    "from sklearn.metrics import confusion_matrix\n",
    "from sklearn.metrics import roc_curve\n",
    "from sklearn.metrics import accuracy_score\n",
    "from sklearn.feature_selection import RFE\n",
    "from warnings import filterwarnings\n",
    "filterwarnings('ignore')\n",
    "from scipy.stats import f_oneway\n",
    "from scipy.stats import ttest_ind\n",
    "from scipy.stats import chi2_contingency\n",
    "from scipy.stats import chi2\n",
    "from scipy.stats import chisquare\n",
    "from sklearn.tree import DecisionTreeClassifier\n",
    "from sklearn.ensemble import RandomForestClassifier\n",
    "from sklearn.ensemble import AdaBoostClassifier\n",
    "from sklearn.model_selection import cross_val_score,GridSearchCV,KFold\n"
   ]
  },
  {
   "cell_type": "code",
   "execution_count": 400,
   "id": "f9ebebe9",
   "metadata": {},
   "outputs": [],
   "source": [
    "df=pd.read_csv(\"final_data.csv\",low_memory=False)"
   ]
  },
  {
   "cell_type": "code",
   "execution_count": 401,
   "id": "6c9564c6",
   "metadata": {},
   "outputs": [
    {
     "data": {
      "text/html": [
       "<div>\n",
       "<style scoped>\n",
       "    .dataframe tbody tr th:only-of-type {\n",
       "        vertical-align: middle;\n",
       "    }\n",
       "\n",
       "    .dataframe tbody tr th {\n",
       "        vertical-align: top;\n",
       "    }\n",
       "\n",
       "    .dataframe thead th {\n",
       "        text-align: right;\n",
       "    }\n",
       "</style>\n",
       "<table border=\"1\" class=\"dataframe\">\n",
       "  <thead>\n",
       "    <tr style=\"text-align: right;\">\n",
       "      <th></th>\n",
       "      <th>Customer_number</th>\n",
       "      <th>age</th>\n",
       "      <th>job</th>\n",
       "      <th>marital</th>\n",
       "      <th>education</th>\n",
       "      <th>Annual Income</th>\n",
       "      <th>Gender</th>\n",
       "      <th>Insurance</th>\n",
       "      <th>balance</th>\n",
       "      <th>housing</th>\n",
       "      <th>loan</th>\n",
       "      <th>contact</th>\n",
       "      <th>duration</th>\n",
       "      <th>campaign</th>\n",
       "      <th>last_contact_day</th>\n",
       "      <th>previous</th>\n",
       "      <th>poutcome</th>\n",
       "      <th>Term Deposit</th>\n",
       "      <th>Count_Txn</th>\n",
       "    </tr>\n",
       "  </thead>\n",
       "  <tbody>\n",
       "    <tr>\n",
       "      <th>0</th>\n",
       "      <td>1001</td>\n",
       "      <td>58</td>\n",
       "      <td>management</td>\n",
       "      <td>married</td>\n",
       "      <td>tertiary</td>\n",
       "      <td>839368</td>\n",
       "      <td>M</td>\n",
       "      <td>no</td>\n",
       "      <td>2143</td>\n",
       "      <td>yes</td>\n",
       "      <td>no</td>\n",
       "      <td>NaN</td>\n",
       "      <td>261.0</td>\n",
       "      <td>1</td>\n",
       "      <td>2</td>\n",
       "      <td>0</td>\n",
       "      <td>unknown</td>\n",
       "      <td>no</td>\n",
       "      <td>351.0</td>\n",
       "    </tr>\n",
       "    <tr>\n",
       "      <th>1</th>\n",
       "      <td>1002</td>\n",
       "      <td>44</td>\n",
       "      <td>technician</td>\n",
       "      <td>single</td>\n",
       "      <td>secondary</td>\n",
       "      <td>1452858</td>\n",
       "      <td>M</td>\n",
       "      <td>no</td>\n",
       "      <td>29</td>\n",
       "      <td>yes</td>\n",
       "      <td>no</td>\n",
       "      <td>unknown</td>\n",
       "      <td>151.0</td>\n",
       "      <td>1</td>\n",
       "      <td>2</td>\n",
       "      <td>0</td>\n",
       "      <td>unknown</td>\n",
       "      <td>no</td>\n",
       "      <td>326.0</td>\n",
       "    </tr>\n",
       "    <tr>\n",
       "      <th>2</th>\n",
       "      <td>1003</td>\n",
       "      <td>33</td>\n",
       "      <td>entrepreneur</td>\n",
       "      <td>married</td>\n",
       "      <td>NaN</td>\n",
       "      <td>4851383</td>\n",
       "      <td>F</td>\n",
       "      <td>no</td>\n",
       "      <td>2</td>\n",
       "      <td>yes</td>\n",
       "      <td>yes</td>\n",
       "      <td>unknown</td>\n",
       "      <td>76.0</td>\n",
       "      <td>1</td>\n",
       "      <td>2</td>\n",
       "      <td>0</td>\n",
       "      <td>NaN</td>\n",
       "      <td>no</td>\n",
       "      <td>422.0</td>\n",
       "    </tr>\n",
       "    <tr>\n",
       "      <th>3</th>\n",
       "      <td>1004</td>\n",
       "      <td>47</td>\n",
       "      <td>blue collar</td>\n",
       "      <td>married</td>\n",
       "      <td>unknown</td>\n",
       "      <td>3207754</td>\n",
       "      <td>F</td>\n",
       "      <td>no</td>\n",
       "      <td>1506</td>\n",
       "      <td>yes</td>\n",
       "      <td>no</td>\n",
       "      <td>unknown</td>\n",
       "      <td>92.0</td>\n",
       "      <td>1</td>\n",
       "      <td>2</td>\n",
       "      <td>0</td>\n",
       "      <td>unknown</td>\n",
       "      <td>no</td>\n",
       "      <td>113.0</td>\n",
       "    </tr>\n",
       "    <tr>\n",
       "      <th>4</th>\n",
       "      <td>1005</td>\n",
       "      <td>33</td>\n",
       "      <td>unknown</td>\n",
       "      <td>single</td>\n",
       "      <td>unknown</td>\n",
       "      <td>2562322</td>\n",
       "      <td>M</td>\n",
       "      <td>no</td>\n",
       "      <td>1</td>\n",
       "      <td>no</td>\n",
       "      <td>no</td>\n",
       "      <td>unknown</td>\n",
       "      <td>198.0</td>\n",
       "      <td>1</td>\n",
       "      <td>2</td>\n",
       "      <td>0</td>\n",
       "      <td>unknown</td>\n",
       "      <td>no</td>\n",
       "      <td>342.0</td>\n",
       "    </tr>\n",
       "  </tbody>\n",
       "</table>\n",
       "</div>"
      ],
      "text/plain": [
       "   Customer_number  age           job  marital  education Annual Income  \\\n",
       "0             1001   58    management  married   tertiary        839368   \n",
       "1             1002   44    technician   single  secondary       1452858   \n",
       "2             1003   33  entrepreneur  married        NaN       4851383   \n",
       "3             1004   47   blue collar  married    unknown       3207754   \n",
       "4             1005   33       unknown   single    unknown       2562322   \n",
       "\n",
       "  Gender Insurance balance housing loan  contact  duration  campaign  \\\n",
       "0      M        no    2143     yes   no      NaN     261.0         1   \n",
       "1      M        no      29     yes   no  unknown     151.0         1   \n",
       "2      F        no       2     yes  yes  unknown      76.0         1   \n",
       "3      F        no    1506     yes   no  unknown      92.0         1   \n",
       "4      M        no       1      no   no  unknown     198.0         1   \n",
       "\n",
       "   last_contact_day  previous poutcome Term Deposit  Count_Txn  \n",
       "0                 2         0  unknown           no      351.0  \n",
       "1                 2         0  unknown           no      326.0  \n",
       "2                 2         0      NaN           no      422.0  \n",
       "3                 2         0  unknown           no      113.0  \n",
       "4                 2         0  unknown           no      342.0  "
      ]
     },
     "execution_count": 401,
     "metadata": {},
     "output_type": "execute_result"
    }
   ],
   "source": [
    "df.head()"
   ]
  },
  {
   "cell_type": "code",
   "execution_count": 402,
   "id": "c8e7e682",
   "metadata": {},
   "outputs": [
    {
     "data": {
      "text/plain": [
       "(45211, 19)"
      ]
     },
     "execution_count": 402,
     "metadata": {},
     "output_type": "execute_result"
    }
   ],
   "source": [
    "df.shape"
   ]
  },
  {
   "cell_type": "code",
   "execution_count": 403,
   "id": "b0174c53",
   "metadata": {},
   "outputs": [
    {
     "name": "stdout",
     "output_type": "stream",
     "text": [
      "<class 'pandas.core.frame.DataFrame'>\n",
      "RangeIndex: 45211 entries, 0 to 45210\n",
      "Data columns (total 19 columns):\n",
      " #   Column            Non-Null Count  Dtype  \n",
      "---  ------            --------------  -----  \n",
      " 0   Customer_number   45211 non-null  int64  \n",
      " 1   age               45211 non-null  int64  \n",
      " 2   job               45198 non-null  object \n",
      " 3   marital           45193 non-null  object \n",
      " 4   education         45190 non-null  object \n",
      " 5   Annual Income     45194 non-null  object \n",
      " 6   Gender            45211 non-null  object \n",
      " 7   Insurance         45211 non-null  object \n",
      " 8   balance           45156 non-null  object \n",
      " 9   housing           45211 non-null  object \n",
      " 10  loan              45203 non-null  object \n",
      " 11  contact           45168 non-null  object \n",
      " 12  duration          45172 non-null  float64\n",
      " 13  campaign          45211 non-null  int64  \n",
      " 14  last_contact_day  45211 non-null  int64  \n",
      " 15  previous          45211 non-null  int64  \n",
      " 16  poutcome          45196 non-null  object \n",
      " 17  Term Deposit      45203 non-null  object \n",
      " 18  Count_Txn         45210 non-null  float64\n",
      "dtypes: float64(2), int64(5), object(12)\n",
      "memory usage: 6.6+ MB\n"
     ]
    }
   ],
   "source": [
    "df.info()"
   ]
  },
  {
   "cell_type": "code",
   "execution_count": 404,
   "id": "0d7404e2",
   "metadata": {},
   "outputs": [
    {
     "data": {
      "text/plain": [
       "Customer_number      0\n",
       "age                  0\n",
       "job                 13\n",
       "marital             18\n",
       "education           21\n",
       "Annual Income       17\n",
       "Gender               0\n",
       "Insurance            0\n",
       "balance             55\n",
       "housing              0\n",
       "loan                 8\n",
       "contact             43\n",
       "duration            39\n",
       "campaign             0\n",
       "last_contact_day     0\n",
       "previous             0\n",
       "poutcome            15\n",
       "Term Deposit         8\n",
       "Count_Txn            1\n",
       "dtype: int64"
      ]
     },
     "execution_count": 404,
     "metadata": {},
     "output_type": "execute_result"
    }
   ],
   "source": [
    "df.isnull().sum()"
   ]
  },
  {
   "cell_type": "code",
   "execution_count": 405,
   "id": "a740bb69",
   "metadata": {},
   "outputs": [
    {
     "data": {
      "text/plain": [
       "0"
      ]
     },
     "execution_count": 405,
     "metadata": {},
     "output_type": "execute_result"
    }
   ],
   "source": [
    "df.duplicated().sum()"
   ]
  },
  {
   "cell_type": "markdown",
   "id": "c5539cc0",
   "metadata": {},
   "source": [
    "**Lets change the data types of the required features **"
   ]
  },
  {
   "cell_type": "code",
   "execution_count": 406,
   "id": "45908efa",
   "metadata": {},
   "outputs": [],
   "source": [
    "df['balance'] = df['balance'].apply(pd.to_numeric, errors='coerce', downcast='integer')"
   ]
  },
  {
   "cell_type": "code",
   "execution_count": 407,
   "id": "d3c8844f",
   "metadata": {},
   "outputs": [
    {
     "data": {
      "text/plain": [
       "dtype('float64')"
      ]
     },
     "execution_count": 407,
     "metadata": {},
     "output_type": "execute_result"
    }
   ],
   "source": [
    "df['balance'].dtypes"
   ]
  },
  {
   "cell_type": "code",
   "execution_count": 408,
   "id": "80548dcf",
   "metadata": {},
   "outputs": [],
   "source": [
    "df['Annual Income'] = df['Annual Income'].apply(pd.to_numeric, errors='coerce', downcast='integer')"
   ]
  },
  {
   "cell_type": "code",
   "execution_count": 409,
   "id": "00fe5fcd",
   "metadata": {},
   "outputs": [],
   "source": [
    "df['previous'] = df['previous'].astype(int)"
   ]
  },
  {
   "cell_type": "code",
   "execution_count": 410,
   "id": "564db044",
   "metadata": {},
   "outputs": [
    {
     "data": {
      "text/plain": [
       "array(['no', 'yes', nan], dtype=object)"
      ]
     },
     "execution_count": 410,
     "metadata": {},
     "output_type": "execute_result"
    }
   ],
   "source": [
    "df['Term Deposit'].unique()"
   ]
  },
  {
   "cell_type": "code",
   "execution_count": 411,
   "id": "0b938f48",
   "metadata": {},
   "outputs": [],
   "source": [
    "df['Term Deposit'] = df['Term Deposit'].replace({'no':0,'yes':1})"
   ]
  },
  {
   "cell_type": "code",
   "execution_count": 412,
   "id": "29767f16",
   "metadata": {},
   "outputs": [
    {
     "data": {
      "text/plain": [
       "Customer_number       int64\n",
       "age                   int64\n",
       "job                  object\n",
       "marital              object\n",
       "education            object\n",
       "Annual Income       float64\n",
       "Gender               object\n",
       "Insurance            object\n",
       "balance             float64\n",
       "housing              object\n",
       "loan                 object\n",
       "contact              object\n",
       "duration            float64\n",
       "campaign              int64\n",
       "last_contact_day      int64\n",
       "previous              int32\n",
       "poutcome             object\n",
       "Term Deposit        float64\n",
       "Count_Txn           float64\n",
       "dtype: object"
      ]
     },
     "execution_count": 412,
     "metadata": {},
     "output_type": "execute_result"
    }
   ],
   "source": [
    "df.dtypes"
   ]
  },
  {
   "cell_type": "markdown",
   "id": "cd1ed1c3",
   "metadata": {},
   "source": [
    "**Analysis Questions:**\n",
    "    \n",
    "1. How many customers have no annual income? Plot and present the data distribution\n",
    "of these customers?\n",
    "2.Filter out customers who don’t have any type of loan. Plot the distribution of their \n",
    "Income, balance, and profession. How do these metrics differ from those with loans?\n",
    "3.Calculate the percentage of customers with a loan who have taken out insurance. \n",
    "Visualize this data and discuss potential implications.\n",
    "4.Analyse and summarize the best Contact method (with the highest success \n",
    "percentage) to contact people to ascertain the status of term deposit subscriptions.\n",
    "5. Determine which age group has the highest percentage of home loans. Present this \n",
    "data visually and discuss possible reasons.\n",
    "6.Investigate any relationships between annual income and age group. Use \n",
    "appropriate plots and statistics to present the findings."
   ]
  },
  {
   "cell_type": "markdown",
   "id": "0f2765bf",
   "metadata": {},
   "source": [
    "# We are considering the Annual Income as 0 where there are nulls."
   ]
  },
  {
   "cell_type": "code",
   "execution_count": 413,
   "id": "00427003",
   "metadata": {},
   "outputs": [
    {
     "data": {
      "text/plain": [
       "18"
      ]
     },
     "execution_count": 413,
     "metadata": {},
     "output_type": "execute_result"
    }
   ],
   "source": [
    "#customers having no annual income\n",
    "df['Annual Income'].isnull().sum()"
   ]
  },
  {
   "cell_type": "code",
   "execution_count": 414,
   "id": "a0f6d0ae",
   "metadata": {},
   "outputs": [],
   "source": [
    "df['Annual Income'].fillna(0,inplace=True)"
   ]
  },
  {
   "cell_type": "code",
   "execution_count": 415,
   "id": "6ade7b82",
   "metadata": {},
   "outputs": [
    {
     "data": {
      "image/png": "[encoded data removed]",
      "text/plain": [
       "<Figure size 1224x648 with 10 Axes>"
      ]
     },
     "metadata": {
      "needs_background": "light"
     },
     "output_type": "display_data"
    }
   ],
   "source": [
    "numeric_columns_0_income=df[df['Annual Income']<=0].select_dtypes(exclude='object')\n",
    "plt.rcParams['figure.figsize']=[17,9]\n",
    "rows=3\n",
    "columns=4\n",
    "iterator=1\n",
    "for k in numeric_columns_0_income.columns:\n",
    "    plt.subplot(rows,columns,iterator)\n",
    "    sns.distplot(df.loc[:,k],label= 'Skewness:'+' '+str(round(df[k].skew(),3)))\n",
    "    plt.title(k)\n",
    "    plt.legend()\n",
    "    iterator+=1\n",
    "    plt.xticks(rotation=90)\n",
    "plt.tight_layout() \n"
   ]
  },
  {
   "cell_type": "markdown",
   "id": "e9bcffb2",
   "metadata": {},
   "source": [
    "#Visual distribution of customers having no income"
   ]
  },
  {
   "cell_type": "code",
   "execution_count": 416,
   "id": "3262ad9f",
   "metadata": {},
   "outputs": [],
   "source": [
    "#Filter out customers who don’t have any type of loan\n",
    "no_loan=df[df['loan']=='no']\n"
   ]
  },
  {
   "cell_type": "code",
   "execution_count": 417,
   "id": "999dd942",
   "metadata": {},
   "outputs": [],
   "source": [
    "with_loan=df[df['loan']=='yes']"
   ]
  },
  {
   "cell_type": "code",
   "execution_count": 418,
   "id": "6dcdbf18",
   "metadata": {},
   "outputs": [
    {
     "data": {
      "image/png": "[encoded data removed]",
      "text/plain": [
       "<Figure size 720x432 with 1 Axes>"
      ]
     },
     "metadata": {
      "needs_background": "light"
     },
     "output_type": "display_data"
    }
   ],
   "source": [
    "\n",
    "# Create a Seaborn distribution plot\n",
    "plt.figure(figsize=(10, 6))\n",
    "sns.distplot(no_loan['Annual Income'], kde=True, label='Annual Income no loan', color='blue')\n",
    "sns.distplot(with_loan['Annual Income'], kde=True, label='Annual Income with loan', color='orange')\n",
    "\n",
    "# Add labels and title\n",
    "plt.xlabel('Values')\n",
    "plt.ylabel('Frequency')\n",
    "plt.title('Distribution Plot of customers income having and not having loan')\n",
    "\n",
    "# Add legend\n",
    "plt.legend()\n",
    "\n",
    "# Show the plot\n",
    "plt.show()\n"
   ]
  },
  {
   "cell_type": "code",
   "execution_count": 419,
   "id": "324bcfdd",
   "metadata": {},
   "outputs": [
    {
     "data": {
      "image/png": "[encoded data removed]",
      "text/plain": [
       "<Figure size 720x432 with 1 Axes>"
      ]
     },
     "metadata": {
      "needs_background": "light"
     },
     "output_type": "display_data"
    }
   ],
   "source": [
    "\n",
    "# Create a Seaborn distribution plot\n",
    "plt.figure(figsize=(10, 6))\n",
    "sns.distplot(no_loan['balance'], kde=True, label='Balance no loan', color='blue')\n",
    "sns.distplot(with_loan['balance'], kde=True, label='Balance with loan', color='orange')\n",
    "\n",
    "# Add labels and title\n",
    "plt.xlabel('Values')\n",
    "plt.ylabel('Frequency')\n",
    "plt.title('Distribution Plot of customers balance having and not having loan')\n",
    "\n",
    "# Add legend\n",
    "plt.legend()\n",
    "\n",
    "# Show the plot\n",
    "plt.show()\n"
   ]
  },
  {
   "cell_type": "code",
   "execution_count": 420,
   "id": "5cf07da7",
   "metadata": {},
   "outputs": [
    {
     "data": {
      "text/html": [
       "<div>\n",
       "<style scoped>\n",
       "    .dataframe tbody tr th:only-of-type {\n",
       "        vertical-align: middle;\n",
       "    }\n",
       "\n",
       "    .dataframe tbody tr th {\n",
       "        vertical-align: top;\n",
       "    }\n",
       "\n",
       "    .dataframe thead th {\n",
       "        text-align: right;\n",
       "    }\n",
       "</style>\n",
       "<table border=\"1\" class=\"dataframe\">\n",
       "  <thead>\n",
       "    <tr style=\"text-align: right;\">\n",
       "      <th></th>\n",
       "      <th>Customer_number</th>\n",
       "      <th>age</th>\n",
       "      <th>job</th>\n",
       "      <th>marital</th>\n",
       "      <th>education</th>\n",
       "      <th>Annual Income</th>\n",
       "      <th>Gender</th>\n",
       "      <th>Insurance</th>\n",
       "      <th>balance</th>\n",
       "      <th>housing</th>\n",
       "      <th>loan</th>\n",
       "      <th>contact</th>\n",
       "      <th>duration</th>\n",
       "      <th>campaign</th>\n",
       "      <th>last_contact_day</th>\n",
       "      <th>previous</th>\n",
       "      <th>poutcome</th>\n",
       "      <th>Term Deposit</th>\n",
       "      <th>Count_Txn</th>\n",
       "    </tr>\n",
       "  </thead>\n",
       "  <tbody>\n",
       "    <tr>\n",
       "      <th>0</th>\n",
       "      <td>1001</td>\n",
       "      <td>58</td>\n",
       "      <td>management</td>\n",
       "      <td>married</td>\n",
       "      <td>tertiary</td>\n",
       "      <td>839368.0</td>\n",
       "      <td>M</td>\n",
       "      <td>no</td>\n",
       "      <td>2143.0</td>\n",
       "      <td>yes</td>\n",
       "      <td>no</td>\n",
       "      <td>NaN</td>\n",
       "      <td>261.0</td>\n",
       "      <td>1</td>\n",
       "      <td>2</td>\n",
       "      <td>0</td>\n",
       "      <td>unknown</td>\n",
       "      <td>0.0</td>\n",
       "      <td>351.0</td>\n",
       "    </tr>\n",
       "    <tr>\n",
       "      <th>1</th>\n",
       "      <td>1002</td>\n",
       "      <td>44</td>\n",
       "      <td>technician</td>\n",
       "      <td>single</td>\n",
       "      <td>secondary</td>\n",
       "      <td>1452858.0</td>\n",
       "      <td>M</td>\n",
       "      <td>no</td>\n",
       "      <td>29.0</td>\n",
       "      <td>yes</td>\n",
       "      <td>no</td>\n",
       "      <td>unknown</td>\n",
       "      <td>151.0</td>\n",
       "      <td>1</td>\n",
       "      <td>2</td>\n",
       "      <td>0</td>\n",
       "      <td>unknown</td>\n",
       "      <td>0.0</td>\n",
       "      <td>326.0</td>\n",
       "    </tr>\n",
       "    <tr>\n",
       "      <th>2</th>\n",
       "      <td>1003</td>\n",
       "      <td>33</td>\n",
       "      <td>entrepreneur</td>\n",
       "      <td>married</td>\n",
       "      <td>NaN</td>\n",
       "      <td>4851383.0</td>\n",
       "      <td>F</td>\n",
       "      <td>no</td>\n",
       "      <td>2.0</td>\n",
       "      <td>yes</td>\n",
       "      <td>yes</td>\n",
       "      <td>unknown</td>\n",
       "      <td>76.0</td>\n",
       "      <td>1</td>\n",
       "      <td>2</td>\n",
       "      <td>0</td>\n",
       "      <td>NaN</td>\n",
       "      <td>0.0</td>\n",
       "      <td>422.0</td>\n",
       "    </tr>\n",
       "    <tr>\n",
       "      <th>3</th>\n",
       "      <td>1004</td>\n",
       "      <td>47</td>\n",
       "      <td>blue collar</td>\n",
       "      <td>married</td>\n",
       "      <td>unknown</td>\n",
       "      <td>3207754.0</td>\n",
       "      <td>F</td>\n",
       "      <td>no</td>\n",
       "      <td>1506.0</td>\n",
       "      <td>yes</td>\n",
       "      <td>no</td>\n",
       "      <td>unknown</td>\n",
       "      <td>92.0</td>\n",
       "      <td>1</td>\n",
       "      <td>2</td>\n",
       "      <td>0</td>\n",
       "      <td>unknown</td>\n",
       "      <td>0.0</td>\n",
       "      <td>113.0</td>\n",
       "    </tr>\n",
       "    <tr>\n",
       "      <th>4</th>\n",
       "      <td>1005</td>\n",
       "      <td>33</td>\n",
       "      <td>unknown</td>\n",
       "      <td>single</td>\n",
       "      <td>unknown</td>\n",
       "      <td>2562322.0</td>\n",
       "      <td>M</td>\n",
       "      <td>no</td>\n",
       "      <td>1.0</td>\n",
       "      <td>no</td>\n",
       "      <td>no</td>\n",
       "      <td>unknown</td>\n",
       "      <td>198.0</td>\n",
       "      <td>1</td>\n",
       "      <td>2</td>\n",
       "      <td>0</td>\n",
       "      <td>unknown</td>\n",
       "      <td>0.0</td>\n",
       "      <td>342.0</td>\n",
       "    </tr>\n",
       "    <tr>\n",
       "      <th>...</th>\n",
       "      <td>...</td>\n",
       "      <td>...</td>\n",
       "      <td>...</td>\n",
       "      <td>...</td>\n",
       "      <td>...</td>\n",
       "      <td>...</td>\n",
       "      <td>...</td>\n",
       "      <td>...</td>\n",
       "      <td>...</td>\n",
       "      <td>...</td>\n",
       "      <td>...</td>\n",
       "      <td>...</td>\n",
       "      <td>...</td>\n",
       "      <td>...</td>\n",
       "      <td>...</td>\n",
       "      <td>...</td>\n",
       "      <td>...</td>\n",
       "      <td>...</td>\n",
       "      <td>...</td>\n",
       "    </tr>\n",
       "    <tr>\n",
       "      <th>45206</th>\n",
       "      <td>46207</td>\n",
       "      <td>51</td>\n",
       "      <td>technician</td>\n",
       "      <td>married</td>\n",
       "      <td>tertiary</td>\n",
       "      <td>2229818.0</td>\n",
       "      <td>M</td>\n",
       "      <td>no</td>\n",
       "      <td>825.0</td>\n",
       "      <td>no</td>\n",
       "      <td>no</td>\n",
       "      <td>cellular</td>\n",
       "      <td>0.0</td>\n",
       "      <td>0</td>\n",
       "      <td>-1</td>\n",
       "      <td>0</td>\n",
       "      <td>unknown</td>\n",
       "      <td>1.0</td>\n",
       "      <td>152.0</td>\n",
       "    </tr>\n",
       "    <tr>\n",
       "      <th>45207</th>\n",
       "      <td>46208</td>\n",
       "      <td>121</td>\n",
       "      <td>retired</td>\n",
       "      <td>divorced</td>\n",
       "      <td>primary</td>\n",
       "      <td>2783556.0</td>\n",
       "      <td>M</td>\n",
       "      <td>no</td>\n",
       "      <td>1729.0</td>\n",
       "      <td>no</td>\n",
       "      <td>no</td>\n",
       "      <td>cellular</td>\n",
       "      <td>0.0</td>\n",
       "      <td>0</td>\n",
       "      <td>-1</td>\n",
       "      <td>0</td>\n",
       "      <td>unknown</td>\n",
       "      <td>1.0</td>\n",
       "      <td>334.0</td>\n",
       "    </tr>\n",
       "    <tr>\n",
       "      <th>45208</th>\n",
       "      <td>46209</td>\n",
       "      <td>72</td>\n",
       "      <td>retired</td>\n",
       "      <td>married</td>\n",
       "      <td>secondary</td>\n",
       "      <td>443512.0</td>\n",
       "      <td>M</td>\n",
       "      <td>no</td>\n",
       "      <td>5715.0</td>\n",
       "      <td>no</td>\n",
       "      <td>no</td>\n",
       "      <td>cellular</td>\n",
       "      <td>1127.0</td>\n",
       "      <td>5</td>\n",
       "      <td>184</td>\n",
       "      <td>3</td>\n",
       "      <td>success</td>\n",
       "      <td>1.0</td>\n",
       "      <td>381.0</td>\n",
       "    </tr>\n",
       "    <tr>\n",
       "      <th>45209</th>\n",
       "      <td>46210</td>\n",
       "      <td>57</td>\n",
       "      <td>blue-collar</td>\n",
       "      <td>married</td>\n",
       "      <td>secondary</td>\n",
       "      <td>4193684.0</td>\n",
       "      <td>F</td>\n",
       "      <td>no</td>\n",
       "      <td>668.0</td>\n",
       "      <td>no</td>\n",
       "      <td>no</td>\n",
       "      <td>telephone</td>\n",
       "      <td>0.0</td>\n",
       "      <td>0</td>\n",
       "      <td>-1</td>\n",
       "      <td>0</td>\n",
       "      <td>unknown</td>\n",
       "      <td>0.0</td>\n",
       "      <td>211.0</td>\n",
       "    </tr>\n",
       "    <tr>\n",
       "      <th>45210</th>\n",
       "      <td>46211</td>\n",
       "      <td>37</td>\n",
       "      <td>entrepreneur</td>\n",
       "      <td>married</td>\n",
       "      <td>secondary</td>\n",
       "      <td>3617935.0</td>\n",
       "      <td>M</td>\n",
       "      <td>no</td>\n",
       "      <td>2971.0</td>\n",
       "      <td>no</td>\n",
       "      <td>no</td>\n",
       "      <td>cellular</td>\n",
       "      <td>361.0</td>\n",
       "      <td>2</td>\n",
       "      <td>188</td>\n",
       "      <td>11</td>\n",
       "      <td>other</td>\n",
       "      <td>0.0</td>\n",
       "      <td>331.0</td>\n",
       "    </tr>\n",
       "  </tbody>\n",
       "</table>\n",
       "<p>45211 rows × 19 columns</p>\n",
       "</div>"
      ],
      "text/plain": [
       "       Customer_number  age           job   marital  education  Annual Income  \\\n",
       "0                 1001   58    management   married   tertiary       839368.0   \n",
       "1                 1002   44    technician    single  secondary      1452858.0   \n",
       "2                 1003   33  entrepreneur   married        NaN      4851383.0   \n",
       "3                 1004   47   blue collar   married    unknown      3207754.0   \n",
       "4                 1005   33       unknown    single    unknown      2562322.0   \n",
       "...                ...  ...           ...       ...        ...            ...   \n",
       "45206            46207   51    technician   married   tertiary      2229818.0   \n",
       "45207            46208  121       retired  divorced    primary      2783556.0   \n",
       "45208            46209   72       retired   married  secondary       443512.0   \n",
       "45209            46210   57   blue-collar   married  secondary      4193684.0   \n",
       "45210            46211   37  entrepreneur   married  secondary      3617935.0   \n",
       "\n",
       "      Gender Insurance  balance housing loan    contact  duration  campaign  \\\n",
       "0          M        no   2143.0     yes   no        NaN     261.0         1   \n",
       "1          M        no     29.0     yes   no    unknown     151.0         1   \n",
       "2          F        no      2.0     yes  yes    unknown      76.0         1   \n",
       "3          F        no   1506.0     yes   no    unknown      92.0         1   \n",
       "4          M        no      1.0      no   no    unknown     198.0         1   \n",
       "...      ...       ...      ...     ...  ...        ...       ...       ...   \n",
       "45206      M        no    825.0      no   no   cellular       0.0         0   \n",
       "45207      M        no   1729.0      no   no   cellular       0.0         0   \n",
       "45208      M        no   5715.0      no   no   cellular    1127.0         5   \n",
       "45209      F        no    668.0      no   no  telephone       0.0         0   \n",
       "45210      M        no   2971.0      no   no   cellular     361.0         2   \n",
       "\n",
       "       last_contact_day  previous poutcome  Term Deposit  Count_Txn  \n",
       "0                     2         0  unknown           0.0      351.0  \n",
       "1                     2         0  unknown           0.0      326.0  \n",
       "2                     2         0      NaN           0.0      422.0  \n",
       "3                     2         0  unknown           0.0      113.0  \n",
       "4                     2         0  unknown           0.0      342.0  \n",
       "...                 ...       ...      ...           ...        ...  \n",
       "45206                -1         0  unknown           1.0      152.0  \n",
       "45207                -1         0  unknown           1.0      334.0  \n",
       "45208               184         3  success           1.0      381.0  \n",
       "45209                -1         0  unknown           0.0      211.0  \n",
       "45210               188        11    other           0.0      331.0  \n",
       "\n",
       "[45211 rows x 19 columns]"
      ]
     },
     "execution_count": 420,
     "metadata": {},
     "output_type": "execute_result"
    }
   ],
   "source": [
    "df\n"
   ]
  },
  {
   "cell_type": "code",
   "execution_count": 421,
   "id": "3c77ab31",
   "metadata": {},
   "outputs": [
    {
     "data": {
      "image/png": "[encoded data removed]",
      "text/plain": [
       "<Figure size 720x432 with 1 Axes>"
      ]
     },
     "metadata": {
      "needs_background": "light"
     },
     "output_type": "display_data"
    }
   ],
   "source": [
    "import matplotlib.pyplot as plt\n",
    "import seaborn as sns\n",
    "\n",
    "# Assuming 'data' is your DataFrame and 'categorical_column1' and 'categorical_column2' are the columns you want to plot\n",
    "\n",
    "plt.figure(figsize=(10, 6))\n",
    "sns.countplot(data=df, x='job', hue='loan')\n",
    "plt.xlabel('Professions')\n",
    "plt.ylabel('count')\n",
    "plt.title('Distribution of Professions')\n",
    "plt.legend(title='Loan')\n",
    "plt.xticks(rotation=45)\n",
    "plt.tight_layout()\n",
    "plt.show()\n"
   ]
  },
  {
   "cell_type": "code",
   "execution_count": 422,
   "id": "2d054871",
   "metadata": {},
   "outputs": [],
   "source": [
    "#The percentage of customers with a loan who have taken out insurance\n",
    "loan_with_insurance=df[(df['loan']=='yes')&(df['Insurance']=='yes')].select_dtypes(include=np.number)"
   ]
  },
  {
   "cell_type": "code",
   "execution_count": 423,
   "id": "c84d3ae8",
   "metadata": {},
   "outputs": [],
   "source": [
    "percent=(loan_with_insurance.shape[0]/df.shape[0])*100"
   ]
  },
  {
   "cell_type": "code",
   "execution_count": 424,
   "id": "6c991438",
   "metadata": {},
   "outputs": [
    {
     "data": {
      "text/plain": [
       "0.6657671805534051"
      ]
     },
     "execution_count": 424,
     "metadata": {},
     "output_type": "execute_result"
    }
   ],
   "source": [
    "percent"
   ]
  },
  {
   "cell_type": "code",
   "execution_count": 425,
   "id": "9608a099",
   "metadata": {
    "scrolled": false
   },
   "outputs": [
    {
     "data": {
      "text/html": [
       "<div>\n",
       "<style scoped>\n",
       "    .dataframe tbody tr th:only-of-type {\n",
       "        vertical-align: middle;\n",
       "    }\n",
       "\n",
       "    .dataframe tbody tr th {\n",
       "        vertical-align: top;\n",
       "    }\n",
       "\n",
       "    .dataframe thead th {\n",
       "        text-align: right;\n",
       "    }\n",
       "</style>\n",
       "<table border=\"1\" class=\"dataframe\">\n",
       "  <thead>\n",
       "    <tr style=\"text-align: right;\">\n",
       "      <th></th>\n",
       "      <th>Customer_number</th>\n",
       "      <th>age</th>\n",
       "      <th>Annual Income</th>\n",
       "      <th>balance</th>\n",
       "      <th>duration</th>\n",
       "      <th>campaign</th>\n",
       "      <th>last_contact_day</th>\n",
       "      <th>previous</th>\n",
       "      <th>Term Deposit</th>\n",
       "      <th>Count_Txn</th>\n",
       "    </tr>\n",
       "  </thead>\n",
       "  <tbody>\n",
       "    <tr>\n",
       "      <th>572</th>\n",
       "      <td>1573</td>\n",
       "      <td>41</td>\n",
       "      <td>4973772.0</td>\n",
       "      <td>137.0</td>\n",
       "      <td>189.0</td>\n",
       "      <td>1</td>\n",
       "      <td>1</td>\n",
       "      <td>0</td>\n",
       "      <td>0.0</td>\n",
       "      <td>404.0</td>\n",
       "    </tr>\n",
       "    <tr>\n",
       "      <th>852</th>\n",
       "      <td>1853</td>\n",
       "      <td>54</td>\n",
       "      <td>4948643.0</td>\n",
       "      <td>248.0</td>\n",
       "      <td>112.0</td>\n",
       "      <td>1</td>\n",
       "      <td>1</td>\n",
       "      <td>0</td>\n",
       "      <td>0.0</td>\n",
       "      <td>217.0</td>\n",
       "    </tr>\n",
       "    <tr>\n",
       "      <th>932</th>\n",
       "      <td>1933</td>\n",
       "      <td>40</td>\n",
       "      <td>4943134.0</td>\n",
       "      <td>94.0</td>\n",
       "      <td>227.0</td>\n",
       "      <td>1</td>\n",
       "      <td>1</td>\n",
       "      <td>0</td>\n",
       "      <td>0.0</td>\n",
       "      <td>236.0</td>\n",
       "    </tr>\n",
       "    <tr>\n",
       "      <th>1197</th>\n",
       "      <td>2198</td>\n",
       "      <td>51</td>\n",
       "      <td>1150559.0</td>\n",
       "      <td>57.0</td>\n",
       "      <td>61.0</td>\n",
       "      <td>1</td>\n",
       "      <td>1</td>\n",
       "      <td>0</td>\n",
       "      <td>0.0</td>\n",
       "      <td>195.0</td>\n",
       "    </tr>\n",
       "    <tr>\n",
       "      <th>1589</th>\n",
       "      <td>2590</td>\n",
       "      <td>35</td>\n",
       "      <td>1929171.0</td>\n",
       "      <td>89.0</td>\n",
       "      <td>166.0</td>\n",
       "      <td>3</td>\n",
       "      <td>1</td>\n",
       "      <td>0</td>\n",
       "      <td>0.0</td>\n",
       "      <td>324.0</td>\n",
       "    </tr>\n",
       "    <tr>\n",
       "      <th>...</th>\n",
       "      <td>...</td>\n",
       "      <td>...</td>\n",
       "      <td>...</td>\n",
       "      <td>...</td>\n",
       "      <td>...</td>\n",
       "      <td>...</td>\n",
       "      <td>...</td>\n",
       "      <td>...</td>\n",
       "      <td>...</td>\n",
       "      <td>...</td>\n",
       "    </tr>\n",
       "    <tr>\n",
       "      <th>38244</th>\n",
       "      <td>39245</td>\n",
       "      <td>39</td>\n",
       "      <td>470042.0</td>\n",
       "      <td>202.0</td>\n",
       "      <td>157.0</td>\n",
       "      <td>4</td>\n",
       "      <td>1</td>\n",
       "      <td>0</td>\n",
       "      <td>0.0</td>\n",
       "      <td>116.0</td>\n",
       "    </tr>\n",
       "    <tr>\n",
       "      <th>39290</th>\n",
       "      <td>40291</td>\n",
       "      <td>32</td>\n",
       "      <td>4551156.0</td>\n",
       "      <td>5.0</td>\n",
       "      <td>82.0</td>\n",
       "      <td>3</td>\n",
       "      <td>363</td>\n",
       "      <td>2</td>\n",
       "      <td>0.0</td>\n",
       "      <td>310.0</td>\n",
       "    </tr>\n",
       "    <tr>\n",
       "      <th>39347</th>\n",
       "      <td>40348</td>\n",
       "      <td>24</td>\n",
       "      <td>248247.0</td>\n",
       "      <td>1414.0</td>\n",
       "      <td>171.0</td>\n",
       "      <td>2</td>\n",
       "      <td>1</td>\n",
       "      <td>0</td>\n",
       "      <td>0.0</td>\n",
       "      <td>140.0</td>\n",
       "    </tr>\n",
       "    <tr>\n",
       "      <th>39674</th>\n",
       "      <td>40675</td>\n",
       "      <td>58</td>\n",
       "      <td>245563.0</td>\n",
       "      <td>235.0</td>\n",
       "      <td>93.0</td>\n",
       "      <td>2</td>\n",
       "      <td>1</td>\n",
       "      <td>0</td>\n",
       "      <td>0.0</td>\n",
       "      <td>334.0</td>\n",
       "    </tr>\n",
       "    <tr>\n",
       "      <th>44161</th>\n",
       "      <td>45162</td>\n",
       "      <td>25</td>\n",
       "      <td>927025.0</td>\n",
       "      <td>160.0</td>\n",
       "      <td>151.0</td>\n",
       "      <td>1</td>\n",
       "      <td>1</td>\n",
       "      <td>0</td>\n",
       "      <td>0.0</td>\n",
       "      <td>325.0</td>\n",
       "    </tr>\n",
       "  </tbody>\n",
       "</table>\n",
       "<p>301 rows × 10 columns</p>\n",
       "</div>"
      ],
      "text/plain": [
       "       Customer_number  age  Annual Income  balance  duration  campaign  \\\n",
       "572               1573   41      4973772.0    137.0     189.0         1   \n",
       "852               1853   54      4948643.0    248.0     112.0         1   \n",
       "932               1933   40      4943134.0     94.0     227.0         1   \n",
       "1197              2198   51      1150559.0     57.0      61.0         1   \n",
       "1589              2590   35      1929171.0     89.0     166.0         3   \n",
       "...                ...  ...            ...      ...       ...       ...   \n",
       "38244            39245   39       470042.0    202.0     157.0         4   \n",
       "39290            40291   32      4551156.0      5.0      82.0         3   \n",
       "39347            40348   24       248247.0   1414.0     171.0         2   \n",
       "39674            40675   58       245563.0    235.0      93.0         2   \n",
       "44161            45162   25       927025.0    160.0     151.0         1   \n",
       "\n",
       "       last_contact_day  previous  Term Deposit  Count_Txn  \n",
       "572                   1         0           0.0      404.0  \n",
       "852                   1         0           0.0      217.0  \n",
       "932                   1         0           0.0      236.0  \n",
       "1197                  1         0           0.0      195.0  \n",
       "1589                  1         0           0.0      324.0  \n",
       "...                 ...       ...           ...        ...  \n",
       "38244                 1         0           0.0      116.0  \n",
       "39290               363         2           0.0      310.0  \n",
       "39347                 1         0           0.0      140.0  \n",
       "39674                 1         0           0.0      334.0  \n",
       "44161                 1         0           0.0      325.0  \n",
       "\n",
       "[301 rows x 10 columns]"
      ]
     },
     "execution_count": 425,
     "metadata": {},
     "output_type": "execute_result"
    }
   ],
   "source": [
    "loan_with_insurance"
   ]
  },
  {
   "cell_type": "code",
   "execution_count": 426,
   "id": "9d4131d6",
   "metadata": {},
   "outputs": [
    {
     "data": {
      "image/png": "[encoded data removed]",
      "text/plain": [
       "<Figure size 1224x648 with 10 Axes>"
      ]
     },
     "metadata": {
      "needs_background": "light"
     },
     "output_type": "display_data"
    }
   ],
   "source": [
    "plt.rcParams['figure.figsize']=[17,9]\n",
    "rows=3\n",
    "columns=4\n",
    "iterator=1\n",
    "for k in loan_with_insurance.columns:\n",
    "    plt.subplot(rows,columns,iterator)\n",
    "    sns.distplot(df.loc[:,k],label= 'Skewness:'+' '+str(round(df[k].skew(),3)))\n",
    "    plt.title(k)\n",
    "    plt.legend()\n",
    "    iterator+=1\n",
    "    plt.xticks(rotation=90)\n",
    "plt.tight_layout() \n"
   ]
  },
  {
   "cell_type": "markdown",
   "id": "642f5ea6",
   "metadata": {},
   "source": [
    "Visual distribution of customers with a loan who have taken out insurance"
   ]
  },
  {
   "cell_type": "code",
   "execution_count": 427,
   "id": "a1138580",
   "metadata": {},
   "outputs": [
    {
     "data": {
      "text/plain": [
       "array([nan, 'unknown', '?', 'cellular', 'telephone', 'Mobile', 'Tel'],\n",
       "      dtype=object)"
      ]
     },
     "execution_count": 427,
     "metadata": {},
     "output_type": "execute_result"
    }
   ],
   "source": [
    "#Analyse and summarize the best Contact method (with the highest success percentage)\n",
    "df.contact.unique()"
   ]
  },
  {
   "cell_type": "code",
   "execution_count": 428,
   "id": "1d2bbcaa",
   "metadata": {},
   "outputs": [],
   "source": [
    "df['contact'].replace({'?':'unknown',np.NaN:'unknown'},inplace=True)"
   ]
  },
  {
   "cell_type": "code",
   "execution_count": 429,
   "id": "1a005bf5",
   "metadata": {},
   "outputs": [
    {
     "data": {
      "text/plain": [
       "array(['unknown', 'cellular', 'telephone', 'Mobile', 'Tel'], dtype=object)"
      ]
     },
     "execution_count": 429,
     "metadata": {},
     "output_type": "execute_result"
    }
   ],
   "source": [
    "df.contact.unique()"
   ]
  },
  {
   "cell_type": "code",
   "execution_count": 430,
   "id": "a6badbdf",
   "metadata": {},
   "outputs": [
    {
     "data": {
      "text/plain": [
       "array(['unknown', 'cellular', 'telephone', 'Mobile', 'Tel'], dtype=object)"
      ]
     },
     "execution_count": 430,
     "metadata": {},
     "output_type": "execute_result"
    }
   ],
   "source": [
    "df.contact.unique()"
   ]
  },
  {
   "cell_type": "code",
   "execution_count": 431,
   "id": "d4acb7d1",
   "metadata": {},
   "outputs": [
    {
     "data": {
      "text/plain": [
       "contact    Term Deposit\n",
       "Mobile     0.0                29\n",
       "Tel        1.0                11\n",
       "           0.0                 9\n",
       "cellular   0.0             24914\n",
       "           1.0              4368\n",
       "telephone  0.0              2472\n",
       "           1.0               378\n",
       "unknown    0.0             12490\n",
       "           1.0               532\n",
       "Name: Term Deposit, dtype: int64"
      ]
     },
     "execution_count": 431,
     "metadata": {},
     "output_type": "execute_result"
    }
   ],
   "source": [
    "df.groupby('contact')['Term Deposit'].value_counts()"
   ]
  },
  {
   "cell_type": "code",
   "execution_count": 432,
   "id": "8ef2a913",
   "metadata": {},
   "outputs": [
    {
     "data": {
      "text/plain": [
       "<Figure size 288x144 with 0 Axes>"
      ]
     },
     "metadata": {},
     "output_type": "display_data"
    },
    {
     "data": {
      "image/png": "[encoded data removed]",
      "text/plain": [
       "<Figure size 1224x648 with 1 Axes>"
      ]
     },
     "metadata": {
      "needs_background": "light"
     },
     "output_type": "display_data"
    }
   ],
   "source": [
    "result = df.groupby('contact')['Term Deposit'].value_counts().unstack()\n",
    "\n",
    "plt.figure(figsize=(4, 2))\n",
    "result.plot(kind='bar', stacked=True)\n",
    "plt.xlabel('Contact Method')\n",
    "plt.ylabel('Count')\n",
    "plt.title('Distribution of Term Deposit by Contact Method')\n",
    "plt.legend(title='Term Deposit')\n",
    "plt.xticks(rotation=0)\n",
    "plt.tight_layout()\n",
    "plt.show()\n"
   ]
  },
  {
   "cell_type": "code",
   "execution_count": 433,
   "id": "4201101a",
   "metadata": {},
   "outputs": [
    {
     "data": {
      "text/plain": [
       "count    45211.000000\n",
       "mean        40.980005\n",
       "std         10.838273\n",
       "min         18.000000\n",
       "25%         33.000000\n",
       "50%         39.000000\n",
       "75%         48.000000\n",
       "max        121.000000\n",
       "Name: age, dtype: float64"
      ]
     },
     "execution_count": 433,
     "metadata": {},
     "output_type": "execute_result"
    }
   ],
   "source": [
    "#Determine which age group has the highest percentage of home loans\n",
    "df['age'].describe()"
   ]
  },
  {
   "cell_type": "code",
   "execution_count": 434,
   "id": "a02fdfe2",
   "metadata": {},
   "outputs": [],
   "source": [
    "\n",
    "\n",
    "def age_bins(x):\n",
    "    if x <= 45:\n",
    "        return 'Young'\n",
    "    elif x > 45 and x <= 60:\n",
    "        return 'Elder'\n",
    "    else:\n",
    "        return 'Older'\n",
    "\n",
    "df['age'] = df['age'].apply(age_bins)\n",
    "\n"
   ]
  },
  {
   "cell_type": "code",
   "execution_count": 435,
   "id": "456d5587",
   "metadata": {},
   "outputs": [
    {
     "data": {
      "text/plain": [
       "age    housing\n",
       "Elder  no         0.541931\n",
       "       yes        0.458069\n",
       "Older  no         0.930976\n",
       "       yes        0.069024\n",
       "Young  yes        0.616780\n",
       "       no         0.383220\n",
       "Name: housing, dtype: float64"
      ]
     },
     "execution_count": 435,
     "metadata": {},
     "output_type": "execute_result"
    }
   ],
   "source": [
    "df.groupby('age')['housing'].value_counts(normalize=True)"
   ]
  },
  {
   "cell_type": "code",
   "execution_count": 436,
   "id": "44f0eb54",
   "metadata": {},
   "outputs": [
    {
     "data": {
      "text/plain": [
       "<AxesSubplot:xlabel='age'>"
      ]
     },
     "execution_count": 436,
     "metadata": {},
     "output_type": "execute_result"
    },
    {
     "data": {
      "text/plain": [
       "<Figure size 288x144 with 0 Axes>"
      ]
     },
     "metadata": {},
     "output_type": "display_data"
    },
    {
     "data": {
      "image/png": "[encoded data removed]",
      "text/plain": [
       "<Figure size 1224x648 with 1 Axes>"
      ]
     },
     "metadata": {
      "needs_background": "light"
     },
     "output_type": "display_data"
    }
   ],
   "source": [
    "plt.figure(figsize=(4, 2))\n",
    "\n",
    "pd.crosstab(df['age'],df['housing']).plot(kind='bar')"
   ]
  },
  {
   "cell_type": "markdown",
   "id": "d9c52479",
   "metadata": {},
   "source": [
    "It is clearly shown that the Young people (18 - 45) took majority of housing loans"
   ]
  },
  {
   "cell_type": "markdown",
   "id": "cbf67096",
   "metadata": {},
   "source": [
    "# Since the Age has more than 2 populations i am going for ANOVA to check the impact of AGE on Housing Loan"
   ]
  },
  {
   "cell_type": "code",
   "execution_count": 437,
   "id": "b883a2ae",
   "metadata": {},
   "outputs": [
    {
     "name": "stdout",
     "output_type": "stream",
     "text": [
      "F-Statistic: 0.196650340957348\n",
      "P-Value: 0.8214785229551174\n",
      "Fail to reject the null hypothesis: Means are all equal.\n"
     ]
    }
   ],
   "source": [
    "#Investigate any relationships between annual income and age group.\n",
    "#Use appropriate plots and statistics to present the findings.\n",
    "group1=df[df['age']=='Young']['Annual Income']\n",
    "group2=df[df['age']=='Elder']['Annual Income']\n",
    "group3=df[df['age']=='Older']['Annual Income']\n",
    "\n",
    "# Perform ANOVA test\n",
    "f_statistic, p_value = f_oneway(group1,group2,group3)\n",
    "\n",
    "print(\"F-Statistic:\", f_statistic)\n",
    "print(\"P-Value:\", p_value)\n",
    "\n",
    "alpha = 0.05\n",
    "if p_value < alpha:\n",
    "    print(\"Reject the null hypothesis: Means are not all equal.\")\n",
    "else:\n",
    "    print(\"Fail to reject the null hypothesis: Means are all equal.\")\n"
   ]
  },
  {
   "cell_type": "markdown",
   "id": "a90c6d2c",
   "metadata": {},
   "source": [
    "As per the Statistical Analysis Age has no such effect on Annual Income"
   ]
  },
  {
   "cell_type": "markdown",
   "id": "fd555081",
   "metadata": {},
   "source": [
    "**Modeling:**\n",
    "1. Term Deposit and Related Variables:\n",
    "• Identify variables strongly related to Term Deposit. Discuss your approach when the \n",
    "variable is categorical. Which tests or metrics will you employ?\n",
    "2. Predictive Model Building:\n",
    "• Train a prediction model of your choice to estimate the probability that a customer \n",
    "will opt for a term deposit. Adhere to an 80:20 train:test split. Report and present \n",
    "the model's performance metrics on both the train and test datasets.\n",
    "3. Model Improvement Strategies:\n",
    "• Discuss potential methods or approaches to enhance model performance. This could \n",
    "include feature engineering, different algorithms, or refining the data preprocessing \n",
    "steps."
   ]
  },
  {
   "cell_type": "markdown",
   "id": "82a0e56a",
   "metadata": {},
   "source": [
    "# Before comming to Modeling  treating the null values and identify the outliers"
   ]
  },
  {
   "cell_type": "markdown",
   "id": "89d26930",
   "metadata": {},
   "source": [
    "* **Null values** are data points that are absent from certain fields or attributes in a dataset. Failing to handle null values appropriately can lead to biased or inaccurate models.\n",
    "* Dealing with Null Values: There are several strategies to handle null values:\n",
    "\n",
    "1. **Removal:** You can remove rows or columns with null values if the amount of missing data is relatively small and doesn't impact the overall dataset significantly.\n",
    "2. **Imputation:** Imputation involves filling null values with estimated or calculated values. Common imputation techniques include mean, median, mode imputation, or using more advanced methods like regression-based imputation.\n",
    "3. **Predictive Imputation:** You can use machine learning models to predict missing values based on the available data. This can be effective if the missing data pattern is predictable.\n",
    "4. **Domain Knowledge:** In some cases, domain knowledge can guide you in assigning appropriate values to missing data based on the context of the problem."
   ]
  },
  {
   "cell_type": "code",
   "execution_count": 438,
   "id": "46528092",
   "metadata": {},
   "outputs": [
    {
     "data": {
      "text/html": [
       "<div>\n",
       "<style scoped>\n",
       "    .dataframe tbody tr th:only-of-type {\n",
       "        vertical-align: middle;\n",
       "    }\n",
       "\n",
       "    .dataframe tbody tr th {\n",
       "        vertical-align: top;\n",
       "    }\n",
       "\n",
       "    .dataframe thead th {\n",
       "        text-align: right;\n",
       "    }\n",
       "</style>\n",
       "<table border=\"1\" class=\"dataframe\">\n",
       "  <thead>\n",
       "    <tr style=\"text-align: right;\">\n",
       "      <th></th>\n",
       "      <th>Total</th>\n",
       "      <th>Percentage of Missing Values</th>\n",
       "    </tr>\n",
       "  </thead>\n",
       "  <tbody>\n",
       "    <tr>\n",
       "      <th>balance</th>\n",
       "      <td>81</td>\n",
       "      <td>0.179160</td>\n",
       "    </tr>\n",
       "    <tr>\n",
       "      <th>duration</th>\n",
       "      <td>39</td>\n",
       "      <td>0.086262</td>\n",
       "    </tr>\n",
       "    <tr>\n",
       "      <th>education</th>\n",
       "      <td>21</td>\n",
       "      <td>0.046449</td>\n",
       "    </tr>\n",
       "    <tr>\n",
       "      <th>marital</th>\n",
       "      <td>18</td>\n",
       "      <td>0.039813</td>\n",
       "    </tr>\n",
       "    <tr>\n",
       "      <th>poutcome</th>\n",
       "      <td>15</td>\n",
       "      <td>0.033178</td>\n",
       "    </tr>\n",
       "    <tr>\n",
       "      <th>job</th>\n",
       "      <td>13</td>\n",
       "      <td>0.028754</td>\n",
       "    </tr>\n",
       "    <tr>\n",
       "      <th>Term Deposit</th>\n",
       "      <td>8</td>\n",
       "      <td>0.017695</td>\n",
       "    </tr>\n",
       "    <tr>\n",
       "      <th>loan</th>\n",
       "      <td>8</td>\n",
       "      <td>0.017695</td>\n",
       "    </tr>\n",
       "    <tr>\n",
       "      <th>Count_Txn</th>\n",
       "      <td>1</td>\n",
       "      <td>0.002212</td>\n",
       "    </tr>\n",
       "    <tr>\n",
       "      <th>previous</th>\n",
       "      <td>0</td>\n",
       "      <td>0.000000</td>\n",
       "    </tr>\n",
       "    <tr>\n",
       "      <th>last_contact_day</th>\n",
       "      <td>0</td>\n",
       "      <td>0.000000</td>\n",
       "    </tr>\n",
       "    <tr>\n",
       "      <th>campaign</th>\n",
       "      <td>0</td>\n",
       "      <td>0.000000</td>\n",
       "    </tr>\n",
       "    <tr>\n",
       "      <th>Customer_number</th>\n",
       "      <td>0</td>\n",
       "      <td>0.000000</td>\n",
       "    </tr>\n",
       "    <tr>\n",
       "      <th>contact</th>\n",
       "      <td>0</td>\n",
       "      <td>0.000000</td>\n",
       "    </tr>\n",
       "    <tr>\n",
       "      <th>age</th>\n",
       "      <td>0</td>\n",
       "      <td>0.000000</td>\n",
       "    </tr>\n",
       "    <tr>\n",
       "      <th>Insurance</th>\n",
       "      <td>0</td>\n",
       "      <td>0.000000</td>\n",
       "    </tr>\n",
       "    <tr>\n",
       "      <th>Gender</th>\n",
       "      <td>0</td>\n",
       "      <td>0.000000</td>\n",
       "    </tr>\n",
       "    <tr>\n",
       "      <th>Annual Income</th>\n",
       "      <td>0</td>\n",
       "      <td>0.000000</td>\n",
       "    </tr>\n",
       "    <tr>\n",
       "      <th>housing</th>\n",
       "      <td>0</td>\n",
       "      <td>0.000000</td>\n",
       "    </tr>\n",
       "  </tbody>\n",
       "</table>\n",
       "</div>"
      ],
      "text/plain": [
       "                  Total  Percentage of Missing Values\n",
       "balance              81                      0.179160\n",
       "duration             39                      0.086262\n",
       "education            21                      0.046449\n",
       "marital              18                      0.039813\n",
       "poutcome             15                      0.033178\n",
       "job                  13                      0.028754\n",
       "Term Deposit          8                      0.017695\n",
       "loan                  8                      0.017695\n",
       "Count_Txn             1                      0.002212\n",
       "previous              0                      0.000000\n",
       "last_contact_day      0                      0.000000\n",
       "campaign              0                      0.000000\n",
       "Customer_number       0                      0.000000\n",
       "contact               0                      0.000000\n",
       "age                   0                      0.000000\n",
       "Insurance             0                      0.000000\n",
       "Gender                0                      0.000000\n",
       "Annual Income         0                      0.000000\n",
       "housing               0                      0.000000"
      ]
     },
     "execution_count": 438,
     "metadata": {},
     "output_type": "execute_result"
    }
   ],
   "source": [
    "Total = df.isnull().sum().sort_values(ascending=False)          \n",
    "Percent = (df.isnull().sum()*100/df.isnull().count()).sort_values(ascending=False)   \n",
    "missing_data = pd.concat([Total, Percent], axis = 1, keys = ['Total', 'Percentage of Missing Values'])    \n",
    "missing_data"
   ]
  },
  {
   "cell_type": "code",
   "execution_count": 439,
   "id": "b45a13e7",
   "metadata": {},
   "outputs": [],
   "source": [
    "#balance has 18 % of nulls so i imputed it by median but rest of the variables have around 1 % of nulls so droping them\n",
    "df['balance'].fillna(df['balance'].median(),inplace=True)\n",
    "df.dropna(axis=0,inplace=True)"
   ]
  },
  {
   "cell_type": "code",
   "execution_count": 440,
   "id": "7f6767ee",
   "metadata": {},
   "outputs": [
    {
     "data": {
      "text/plain": [
       "<AxesSubplot:>"
      ]
     },
     "execution_count": 440,
     "metadata": {},
     "output_type": "execute_result"
    },
    {
     "data": {
      "image/png": "[encoded data removed]",
      "text/plain": [
       "<Figure size 1224x648 with 1 Axes>"
      ]
     },
     "metadata": {
      "needs_background": "light"
     },
     "output_type": "display_data"
    }
   ],
   "source": [
    "df.boxplot()"
   ]
  },
  {
   "cell_type": "code",
   "execution_count": 441,
   "id": "a54bdc7e",
   "metadata": {},
   "outputs": [
    {
     "data": {
      "text/plain": [
       "(16909, 19)"
      ]
     },
     "execution_count": 441,
     "metadata": {},
     "output_type": "execute_result"
    }
   ],
   "source": [
    "Q1 = df_num.quantile(0.25)\n",
    "Q3 = df_num.quantile(0.75)\n",
    "IQR = Q3 - Q1\n",
    "df[((df_num < (Q1 - 1.5 * IQR)) | (df_num > (Q3 + 1.5 * IQR))).any(axis=1)].shape\n"
   ]
  },
  {
   "cell_type": "markdown",
   "id": "14dedcb0",
   "metadata": {},
   "source": [
    "From the above analysis i found that the data dont have noise the outliers are real data as it is possible to have rich people in our data so i am not removing or imputing them."
   ]
  },
  {
   "cell_type": "markdown",
   "id": "50804fea",
   "metadata": {},
   "source": [
    "# Applying Statistical Tests to know the significance of indipendent variables on target for Numerical T test indipendence and for categorical Chi-Square & Anova tests"
   ]
  },
  {
   "cell_type": "code",
   "execution_count": 442,
   "id": "5ba85dbf",
   "metadata": {},
   "outputs": [],
   "source": [
    "df_num=df.select_dtypes(include=np.number)\n",
    "df_cat=df.select_dtypes(exclude=np.number)"
   ]
  },
  {
   "cell_type": "code",
   "execution_count": 443,
   "id": "d90546f9",
   "metadata": {},
   "outputs": [
    {
     "data": {
      "text/html": [
       "<div>\n",
       "<style scoped>\n",
       "    .dataframe tbody tr th:only-of-type {\n",
       "        vertical-align: middle;\n",
       "    }\n",
       "\n",
       "    .dataframe tbody tr th {\n",
       "        vertical-align: top;\n",
       "    }\n",
       "\n",
       "    .dataframe thead th {\n",
       "        text-align: right;\n",
       "    }\n",
       "</style>\n",
       "<table border=\"1\" class=\"dataframe\">\n",
       "  <thead>\n",
       "    <tr style=\"text-align: right;\">\n",
       "      <th></th>\n",
       "      <th>age</th>\n",
       "      <th>job</th>\n",
       "      <th>marital</th>\n",
       "      <th>education</th>\n",
       "      <th>Gender</th>\n",
       "      <th>Insurance</th>\n",
       "      <th>housing</th>\n",
       "      <th>loan</th>\n",
       "      <th>contact</th>\n",
       "      <th>poutcome</th>\n",
       "    </tr>\n",
       "  </thead>\n",
       "  <tbody>\n",
       "    <tr>\n",
       "      <th>0</th>\n",
       "      <td>Elder</td>\n",
       "      <td>management</td>\n",
       "      <td>married</td>\n",
       "      <td>tertiary</td>\n",
       "      <td>M</td>\n",
       "      <td>no</td>\n",
       "      <td>yes</td>\n",
       "      <td>no</td>\n",
       "      <td>unknown</td>\n",
       "      <td>unknown</td>\n",
       "    </tr>\n",
       "    <tr>\n",
       "      <th>1</th>\n",
       "      <td>Young</td>\n",
       "      <td>technician</td>\n",
       "      <td>single</td>\n",
       "      <td>secondary</td>\n",
       "      <td>M</td>\n",
       "      <td>no</td>\n",
       "      <td>yes</td>\n",
       "      <td>no</td>\n",
       "      <td>unknown</td>\n",
       "      <td>unknown</td>\n",
       "    </tr>\n",
       "    <tr>\n",
       "      <th>3</th>\n",
       "      <td>Elder</td>\n",
       "      <td>blue collar</td>\n",
       "      <td>married</td>\n",
       "      <td>unknown</td>\n",
       "      <td>F</td>\n",
       "      <td>no</td>\n",
       "      <td>yes</td>\n",
       "      <td>no</td>\n",
       "      <td>unknown</td>\n",
       "      <td>unknown</td>\n",
       "    </tr>\n",
       "    <tr>\n",
       "      <th>4</th>\n",
       "      <td>Young</td>\n",
       "      <td>unknown</td>\n",
       "      <td>single</td>\n",
       "      <td>unknown</td>\n",
       "      <td>M</td>\n",
       "      <td>no</td>\n",
       "      <td>no</td>\n",
       "      <td>no</td>\n",
       "      <td>unknown</td>\n",
       "      <td>unknown</td>\n",
       "    </tr>\n",
       "    <tr>\n",
       "      <th>5</th>\n",
       "      <td>Young</td>\n",
       "      <td>management</td>\n",
       "      <td>married</td>\n",
       "      <td>ter tiary</td>\n",
       "      <td>M</td>\n",
       "      <td>no</td>\n",
       "      <td>yes</td>\n",
       "      <td>no</td>\n",
       "      <td>unknown</td>\n",
       "      <td>unknown</td>\n",
       "    </tr>\n",
       "    <tr>\n",
       "      <th>...</th>\n",
       "      <td>...</td>\n",
       "      <td>...</td>\n",
       "      <td>...</td>\n",
       "      <td>...</td>\n",
       "      <td>...</td>\n",
       "      <td>...</td>\n",
       "      <td>...</td>\n",
       "      <td>...</td>\n",
       "      <td>...</td>\n",
       "      <td>...</td>\n",
       "    </tr>\n",
       "    <tr>\n",
       "      <th>45206</th>\n",
       "      <td>Elder</td>\n",
       "      <td>technician</td>\n",
       "      <td>married</td>\n",
       "      <td>tertiary</td>\n",
       "      <td>M</td>\n",
       "      <td>no</td>\n",
       "      <td>no</td>\n",
       "      <td>no</td>\n",
       "      <td>cellular</td>\n",
       "      <td>unknown</td>\n",
       "    </tr>\n",
       "    <tr>\n",
       "      <th>45207</th>\n",
       "      <td>Older</td>\n",
       "      <td>retired</td>\n",
       "      <td>divorced</td>\n",
       "      <td>primary</td>\n",
       "      <td>M</td>\n",
       "      <td>no</td>\n",
       "      <td>no</td>\n",
       "      <td>no</td>\n",
       "      <td>cellular</td>\n",
       "      <td>unknown</td>\n",
       "    </tr>\n",
       "    <tr>\n",
       "      <th>45208</th>\n",
       "      <td>Older</td>\n",
       "      <td>retired</td>\n",
       "      <td>married</td>\n",
       "      <td>secondary</td>\n",
       "      <td>M</td>\n",
       "      <td>no</td>\n",
       "      <td>no</td>\n",
       "      <td>no</td>\n",
       "      <td>cellular</td>\n",
       "      <td>success</td>\n",
       "    </tr>\n",
       "    <tr>\n",
       "      <th>45209</th>\n",
       "      <td>Elder</td>\n",
       "      <td>blue-collar</td>\n",
       "      <td>married</td>\n",
       "      <td>secondary</td>\n",
       "      <td>F</td>\n",
       "      <td>no</td>\n",
       "      <td>no</td>\n",
       "      <td>no</td>\n",
       "      <td>telephone</td>\n",
       "      <td>unknown</td>\n",
       "    </tr>\n",
       "    <tr>\n",
       "      <th>45210</th>\n",
       "      <td>Young</td>\n",
       "      <td>entrepreneur</td>\n",
       "      <td>married</td>\n",
       "      <td>secondary</td>\n",
       "      <td>M</td>\n",
       "      <td>no</td>\n",
       "      <td>no</td>\n",
       "      <td>no</td>\n",
       "      <td>cellular</td>\n",
       "      <td>other</td>\n",
       "    </tr>\n",
       "  </tbody>\n",
       "</table>\n",
       "<p>45089 rows × 10 columns</p>\n",
       "</div>"
      ],
      "text/plain": [
       "         age           job   marital  education Gender Insurance housing loan  \\\n",
       "0      Elder    management   married   tertiary      M        no     yes   no   \n",
       "1      Young    technician    single  secondary      M        no     yes   no   \n",
       "3      Elder   blue collar   married    unknown      F        no     yes   no   \n",
       "4      Young       unknown    single    unknown      M        no      no   no   \n",
       "5      Young    management   married  ter tiary      M        no     yes   no   \n",
       "...      ...           ...       ...        ...    ...       ...     ...  ...   \n",
       "45206  Elder    technician   married   tertiary      M        no      no   no   \n",
       "45207  Older       retired  divorced    primary      M        no      no   no   \n",
       "45208  Older       retired   married  secondary      M        no      no   no   \n",
       "45209  Elder   blue-collar   married  secondary      F        no      no   no   \n",
       "45210  Young  entrepreneur   married  secondary      M        no      no   no   \n",
       "\n",
       "         contact poutcome  \n",
       "0        unknown  unknown  \n",
       "1        unknown  unknown  \n",
       "3        unknown  unknown  \n",
       "4        unknown  unknown  \n",
       "5        unknown  unknown  \n",
       "...          ...      ...  \n",
       "45206   cellular  unknown  \n",
       "45207   cellular  unknown  \n",
       "45208   cellular  success  \n",
       "45209  telephone  unknown  \n",
       "45210   cellular    other  \n",
       "\n",
       "[45089 rows x 10 columns]"
      ]
     },
     "execution_count": 443,
     "metadata": {},
     "output_type": "execute_result"
    }
   ],
   "source": [
    "df_cat"
   ]
  },
  {
   "cell_type": "code",
   "execution_count": 444,
   "id": "4f42c320",
   "metadata": {},
   "outputs": [
    {
     "data": {
      "text/plain": [
       "6"
      ]
     },
     "execution_count": 444,
     "metadata": {},
     "output_type": "execute_result"
    }
   ],
   "source": [
    "df_cat['education'].nunique()"
   ]
  },
  {
   "cell_type": "code",
   "execution_count": 445,
   "id": "f4520135",
   "metadata": {},
   "outputs": [
    {
     "name": "stdout",
     "output_type": "stream",
     "text": [
      "['Count_Txn']\n"
     ]
    }
   ],
   "source": [
    "static_val=[]\n",
    "pvalue=[]\n",
    "for k in df_num.columns:\n",
    "    s1=df[df['Term Deposit']==0][k]\n",
    "    s2=df[df['Term Deposit']==1][k]\n",
    "    static,pval=ttest_ind(s1,s2)\n",
    "    static_val.append(static)\n",
    "    pvalue.append(pval)\n",
    "    dic={'static_val':static_val,'pvalue':pvalue}\n",
    "num_test_df=pd.DataFrame(dic)\n",
    "num_test_df\n",
    "num_test_df['Features']=df_num.columns\n",
    "non_significant=num_test_df[num_test_df['pvalue']>0.05]\n",
    "l=non_significant.Features.to_list()\n",
    "print(l)\n",
    "df=df.drop(l,axis=1)"
   ]
  },
  {
   "cell_type": "markdown",
   "id": "15b3008f",
   "metadata": {},
   "source": [
    "According to the analysis in numeric features every feature except Count_Txn is statistically significant for our analysis so i dropped Count_Txn."
   ]
  },
  {
   "cell_type": "code",
   "execution_count": 446,
   "id": "41a14c8a",
   "metadata": {},
   "outputs": [
    {
     "name": "stdout",
     "output_type": "stream",
     "text": [
      "[]\n"
     ]
    }
   ],
   "source": [
    "p_value=[]\n",
    "for i in df_cat.columns:\n",
    "    obs_val=pd.crosstab(df_cat[i],df['Term Deposit'])\n",
    "    stat,p_val,dof,exp=chi2_contingency(obs_val.values)\n",
    "    p_value.append(p_val)\n",
    "cat_stats=pd.DataFrame(p_value,index=df_cat.columns,columns=['p_value'])\n",
    "cat_non_significant=cat_stats[cat_stats['p_value']>0.05]\n",
    "l1=cat_non_significant.index.to_list()\n",
    "print(l1)\n",
    "# cat=df_cat.drop(l1,axis=1)\n"
   ]
  },
  {
   "cell_type": "markdown",
   "id": "8177f134",
   "metadata": {},
   "source": [
    "According to the analysis in categorical features every feature is statistically significant for our analysis ."
   ]
  },
  {
   "cell_type": "code",
   "execution_count": 447,
   "id": "2e87ae4e",
   "metadata": {},
   "outputs": [],
   "source": [
    "#There is no need for Customer number for our analysis because we are not deploying the model in production\n",
    "df = df.drop('Customer_number', axis = 1)"
   ]
  },
  {
   "cell_type": "markdown",
   "id": "e9ee3341",
   "metadata": {},
   "source": [
    "# Predictive Model Building"
   ]
  },
  {
   "cell_type": "markdown",
   "id": "c5c8fe72",
   "metadata": {},
   "source": [
    "**Predictive Model Building: • Train a prediction model of your choice to estimate the probability that a customer will opt for a term deposit. Adhere to an 80:20 train:test split. Report and present the model's performance metrics on both the train and test datasets.**"
   ]
  },
  {
   "cell_type": "markdown",
   "id": "70469517",
   "metadata": {},
   "source": [
    "### 1.2 Split the dependent and independent variables."
   ]
  },
  {
   "cell_type": "code",
   "execution_count": 463,
   "id": "bcfb2905",
   "metadata": {},
   "outputs": [],
   "source": [
    "df_target=df['Term Deposit']"
   ]
  },
  {
   "cell_type": "code",
   "execution_count": 464,
   "id": "f6464ec8",
   "metadata": {},
   "outputs": [],
   "source": [
    "df_var=df.drop(\"Term Deposit\",axis=1)"
   ]
  },
  {
   "cell_type": "markdown",
   "id": "dccc7095",
   "metadata": {},
   "source": [
    "#### Filter numerical and categorical variables."
   ]
  },
  {
   "cell_type": "code",
   "execution_count": 450,
   "id": "1de53479",
   "metadata": {},
   "outputs": [],
   "source": [
    "df_num=df_var.select_dtypes(np.number)"
   ]
  },
  {
   "cell_type": "code",
   "execution_count": 451,
   "id": "aec4f986",
   "metadata": {},
   "outputs": [],
   "source": [
    "df_cat=df_var.select_dtypes(\"object\")"
   ]
  },
  {
   "cell_type": "markdown",
   "id": "795aa3f8",
   "metadata": {},
   "source": [
    "# Scaling"
   ]
  },
  {
   "cell_type": "markdown",
   "id": "da76a1a4",
   "metadata": {},
   "source": [
    "We scale the variables to get all the variables in the same range. With this, we can avoid a problem in which some features come to dominate solely because they tend to have larger values than others."
   ]
  },
  {
   "cell_type": "code",
   "execution_count": 452,
   "id": "6aaa9f7a",
   "metadata": {},
   "outputs": [],
   "source": [
    "SS=StandardScaler()\n",
    "df[df_num.columns] = SS.fit_transform(df[df_num.columns])"
   ]
  },
  {
   "cell_type": "code",
   "execution_count": 453,
   "id": "036c9047",
   "metadata": {},
   "outputs": [
    {
     "data": {
      "text/html": [
       "<div>\n",
       "<style scoped>\n",
       "    .dataframe tbody tr th:only-of-type {\n",
       "        vertical-align: middle;\n",
       "    }\n",
       "\n",
       "    .dataframe tbody tr th {\n",
       "        vertical-align: top;\n",
       "    }\n",
       "\n",
       "    .dataframe thead th {\n",
       "        text-align: right;\n",
       "    }\n",
       "</style>\n",
       "<table border=\"1\" class=\"dataframe\">\n",
       "  <thead>\n",
       "    <tr style=\"text-align: right;\">\n",
       "      <th></th>\n",
       "      <th>age</th>\n",
       "      <th>job</th>\n",
       "      <th>marital</th>\n",
       "      <th>education</th>\n",
       "      <th>Annual Income</th>\n",
       "      <th>Gender</th>\n",
       "      <th>Insurance</th>\n",
       "      <th>balance</th>\n",
       "      <th>housing</th>\n",
       "      <th>loan</th>\n",
       "      <th>contact</th>\n",
       "      <th>duration</th>\n",
       "      <th>campaign</th>\n",
       "      <th>last_contact_day</th>\n",
       "      <th>previous</th>\n",
       "      <th>poutcome</th>\n",
       "      <th>Term Deposit</th>\n",
       "    </tr>\n",
       "  </thead>\n",
       "  <tbody>\n",
       "    <tr>\n",
       "      <th>0</th>\n",
       "      <td>Elder</td>\n",
       "      <td>management</td>\n",
       "      <td>married</td>\n",
       "      <td>tertiary</td>\n",
       "      <td>-1.259870</td>\n",
       "      <td>M</td>\n",
       "      <td>no</td>\n",
       "      <td>0.242570</td>\n",
       "      <td>yes</td>\n",
       "      <td>no</td>\n",
       "      <td>unknown</td>\n",
       "      <td>0.011245</td>\n",
       "      <td>-0.570936</td>\n",
       "      <td>-0.400862</td>\n",
       "      <td>-0.252008</td>\n",
       "      <td>unknown</td>\n",
       "      <td>0.0</td>\n",
       "    </tr>\n",
       "    <tr>\n",
       "      <th>1</th>\n",
       "      <td>Young</td>\n",
       "      <td>technician</td>\n",
       "      <td>single</td>\n",
       "      <td>secondary</td>\n",
       "      <td>-0.819564</td>\n",
       "      <td>M</td>\n",
       "      <td>no</td>\n",
       "      <td>-0.461050</td>\n",
       "      <td>yes</td>\n",
       "      <td>no</td>\n",
       "      <td>unknown</td>\n",
       "      <td>-0.415765</td>\n",
       "      <td>-0.570936</td>\n",
       "      <td>-0.400862</td>\n",
       "      <td>-0.252008</td>\n",
       "      <td>unknown</td>\n",
       "      <td>0.0</td>\n",
       "    </tr>\n",
       "    <tr>\n",
       "      <th>3</th>\n",
       "      <td>Elder</td>\n",
       "      <td>blue collar</td>\n",
       "      <td>married</td>\n",
       "      <td>unknown</td>\n",
       "      <td>0.439938</td>\n",
       "      <td>F</td>\n",
       "      <td>no</td>\n",
       "      <td>0.030552</td>\n",
       "      <td>yes</td>\n",
       "      <td>no</td>\n",
       "      <td>unknown</td>\n",
       "      <td>-0.644798</td>\n",
       "      <td>-0.570936</td>\n",
       "      <td>-0.400862</td>\n",
       "      <td>-0.252008</td>\n",
       "      <td>unknown</td>\n",
       "      <td>0.0</td>\n",
       "    </tr>\n",
       "    <tr>\n",
       "      <th>4</th>\n",
       "      <td>Young</td>\n",
       "      <td>unknown</td>\n",
       "      <td>single</td>\n",
       "      <td>unknown</td>\n",
       "      <td>-0.023293</td>\n",
       "      <td>M</td>\n",
       "      <td>no</td>\n",
       "      <td>-0.470370</td>\n",
       "      <td>no</td>\n",
       "      <td>no</td>\n",
       "      <td>unknown</td>\n",
       "      <td>-0.233315</td>\n",
       "      <td>-0.570936</td>\n",
       "      <td>-0.400862</td>\n",
       "      <td>-0.252008</td>\n",
       "      <td>unknown</td>\n",
       "      <td>0.0</td>\n",
       "    </tr>\n",
       "    <tr>\n",
       "      <th>5</th>\n",
       "      <td>Young</td>\n",
       "      <td>management</td>\n",
       "      <td>married</td>\n",
       "      <td>ter tiary</td>\n",
       "      <td>0.980264</td>\n",
       "      <td>M</td>\n",
       "      <td>no</td>\n",
       "      <td>-0.393817</td>\n",
       "      <td>yes</td>\n",
       "      <td>no</td>\n",
       "      <td>unknown</td>\n",
       "      <td>-0.462348</td>\n",
       "      <td>-0.570936</td>\n",
       "      <td>-0.400862</td>\n",
       "      <td>-0.252008</td>\n",
       "      <td>unknown</td>\n",
       "      <td>0.0</td>\n",
       "    </tr>\n",
       "    <tr>\n",
       "      <th>...</th>\n",
       "      <td>...</td>\n",
       "      <td>...</td>\n",
       "      <td>...</td>\n",
       "      <td>...</td>\n",
       "      <td>...</td>\n",
       "      <td>...</td>\n",
       "      <td>...</td>\n",
       "      <td>...</td>\n",
       "      <td>...</td>\n",
       "      <td>...</td>\n",
       "      <td>...</td>\n",
       "      <td>...</td>\n",
       "      <td>...</td>\n",
       "      <td>...</td>\n",
       "      <td>...</td>\n",
       "      <td>...</td>\n",
       "      <td>...</td>\n",
       "    </tr>\n",
       "    <tr>\n",
       "      <th>45206</th>\n",
       "      <td>Elder</td>\n",
       "      <td>technician</td>\n",
       "      <td>married</td>\n",
       "      <td>tertiary</td>\n",
       "      <td>-0.261934</td>\n",
       "      <td>M</td>\n",
       "      <td>no</td>\n",
       "      <td>-0.196111</td>\n",
       "      <td>no</td>\n",
       "      <td>no</td>\n",
       "      <td>cellular</td>\n",
       "      <td>-1.001933</td>\n",
       "      <td>-0.894621</td>\n",
       "      <td>-0.431004</td>\n",
       "      <td>-0.252008</td>\n",
       "      <td>unknown</td>\n",
       "      <td>1.0</td>\n",
       "    </tr>\n",
       "    <tr>\n",
       "      <th>45207</th>\n",
       "      <td>Older</td>\n",
       "      <td>retired</td>\n",
       "      <td>divorced</td>\n",
       "      <td>primary</td>\n",
       "      <td>0.135488</td>\n",
       "      <td>M</td>\n",
       "      <td>no</td>\n",
       "      <td>0.104775</td>\n",
       "      <td>no</td>\n",
       "      <td>no</td>\n",
       "      <td>cellular</td>\n",
       "      <td>-1.001933</td>\n",
       "      <td>-0.894621</td>\n",
       "      <td>-0.431004</td>\n",
       "      <td>-0.252008</td>\n",
       "      <td>unknown</td>\n",
       "      <td>1.0</td>\n",
       "    </tr>\n",
       "    <tr>\n",
       "      <th>45208</th>\n",
       "      <td>Older</td>\n",
       "      <td>retired</td>\n",
       "      <td>married</td>\n",
       "      <td>secondary</td>\n",
       "      <td>-1.543979</td>\n",
       "      <td>M</td>\n",
       "      <td>no</td>\n",
       "      <td>1.431468</td>\n",
       "      <td>no</td>\n",
       "      <td>no</td>\n",
       "      <td>cellular</td>\n",
       "      <td>3.372980</td>\n",
       "      <td>0.723802</td>\n",
       "      <td>1.427751</td>\n",
       "      <td>1.049321</td>\n",
       "      <td>success</td>\n",
       "      <td>1.0</td>\n",
       "    </tr>\n",
       "    <tr>\n",
       "      <th>45209</th>\n",
       "      <td>Elder</td>\n",
       "      <td>blue-collar</td>\n",
       "      <td>married</td>\n",
       "      <td>secondary</td>\n",
       "      <td>1.147548</td>\n",
       "      <td>F</td>\n",
       "      <td>no</td>\n",
       "      <td>-0.248366</td>\n",
       "      <td>no</td>\n",
       "      <td>no</td>\n",
       "      <td>telephone</td>\n",
       "      <td>-1.001933</td>\n",
       "      <td>-0.894621</td>\n",
       "      <td>-0.431004</td>\n",
       "      <td>-0.252008</td>\n",
       "      <td>unknown</td>\n",
       "      <td>0.0</td>\n",
       "    </tr>\n",
       "    <tr>\n",
       "      <th>45210</th>\n",
       "      <td>Young</td>\n",
       "      <td>entrepreneur</td>\n",
       "      <td>married</td>\n",
       "      <td>secondary</td>\n",
       "      <td>0.734328</td>\n",
       "      <td>M</td>\n",
       "      <td>no</td>\n",
       "      <td>0.518160</td>\n",
       "      <td>no</td>\n",
       "      <td>no</td>\n",
       "      <td>cellular</td>\n",
       "      <td>0.399436</td>\n",
       "      <td>-0.247252</td>\n",
       "      <td>1.467940</td>\n",
       "      <td>4.519532</td>\n",
       "      <td>other</td>\n",
       "      <td>0.0</td>\n",
       "    </tr>\n",
       "  </tbody>\n",
       "</table>\n",
       "<p>45089 rows × 17 columns</p>\n",
       "</div>"
      ],
      "text/plain": [
       "         age           job   marital  education  Annual Income Gender  \\\n",
       "0      Elder    management   married   tertiary      -1.259870      M   \n",
       "1      Young    technician    single  secondary      -0.819564      M   \n",
       "3      Elder   blue collar   married    unknown       0.439938      F   \n",
       "4      Young       unknown    single    unknown      -0.023293      M   \n",
       "5      Young    management   married  ter tiary       0.980264      M   \n",
       "...      ...           ...       ...        ...            ...    ...   \n",
       "45206  Elder    technician   married   tertiary      -0.261934      M   \n",
       "45207  Older       retired  divorced    primary       0.135488      M   \n",
       "45208  Older       retired   married  secondary      -1.543979      M   \n",
       "45209  Elder   blue-collar   married  secondary       1.147548      F   \n",
       "45210  Young  entrepreneur   married  secondary       0.734328      M   \n",
       "\n",
       "      Insurance   balance housing loan    contact  duration  campaign  \\\n",
       "0            no  0.242570     yes   no    unknown  0.011245 -0.570936   \n",
       "1            no -0.461050     yes   no    unknown -0.415765 -0.570936   \n",
       "3            no  0.030552     yes   no    unknown -0.644798 -0.570936   \n",
       "4            no -0.470370      no   no    unknown -0.233315 -0.570936   \n",
       "5            no -0.393817     yes   no    unknown -0.462348 -0.570936   \n",
       "...         ...       ...     ...  ...        ...       ...       ...   \n",
       "45206        no -0.196111      no   no   cellular -1.001933 -0.894621   \n",
       "45207        no  0.104775      no   no   cellular -1.001933 -0.894621   \n",
       "45208        no  1.431468      no   no   cellular  3.372980  0.723802   \n",
       "45209        no -0.248366      no   no  telephone -1.001933 -0.894621   \n",
       "45210        no  0.518160      no   no   cellular  0.399436 -0.247252   \n",
       "\n",
       "       last_contact_day  previous poutcome  Term Deposit  \n",
       "0             -0.400862 -0.252008  unknown           0.0  \n",
       "1             -0.400862 -0.252008  unknown           0.0  \n",
       "3             -0.400862 -0.252008  unknown           0.0  \n",
       "4             -0.400862 -0.252008  unknown           0.0  \n",
       "5             -0.400862 -0.252008  unknown           0.0  \n",
       "...                 ...       ...      ...           ...  \n",
       "45206         -0.431004 -0.252008  unknown           1.0  \n",
       "45207         -0.431004 -0.252008  unknown           1.0  \n",
       "45208          1.427751  1.049321  success           1.0  \n",
       "45209         -0.431004 -0.252008  unknown           0.0  \n",
       "45210          1.467940  4.519532    other           0.0  \n",
       "\n",
       "[45089 rows x 17 columns]"
      ]
     },
     "execution_count": 453,
     "metadata": {},
     "output_type": "execute_result"
    }
   ],
   "source": [
    "df"
   ]
  },
  {
   "cell_type": "markdown",
   "id": "f6511572",
   "metadata": {},
   "source": [
    "## 2.1 Encoding"
   ]
  },
  {
   "cell_type": "code",
   "execution_count": 454,
   "id": "461ae3ad",
   "metadata": {},
   "outputs": [
    {
     "data": {
      "text/plain": [
       "Index(['age', 'job', 'marital', 'education', 'Gender', 'Insurance', 'housing',\n",
       "       'loan', 'contact', 'poutcome'],\n",
       "      dtype='object')"
      ]
     },
     "execution_count": 454,
     "metadata": {},
     "output_type": "execute_result"
    }
   ],
   "source": [
    "df_cat.columns"
   ]
  },
  {
   "cell_type": "code",
   "execution_count": 455,
   "id": "81be713b",
   "metadata": {},
   "outputs": [
    {
     "name": "stdout",
     "output_type": "stream",
     "text": [
      "age\n",
      "['Elder' 'Young' 'Older']\n",
      "--------------------------\n",
      "job\n",
      "['management' 'technician' 'blue collar' 'unknown' 'entrepreneur'\n",
      " 'retired' 'admin.' 'services' 'blue-collar' 'self-employed' 'unemployed'\n",
      " 'housemaid' 'student']\n",
      "--------------------------\n",
      "marital\n",
      "['married' 'single' 'divorced']\n",
      "--------------------------\n",
      "education\n",
      "['tertiary' 'secondary' 'unknown' 'ter tiary' 'primary' 'Primary']\n",
      "--------------------------\n",
      "Gender\n",
      "['M' 'F']\n",
      "--------------------------\n",
      "Insurance\n",
      "['no' 'yes']\n",
      "--------------------------\n",
      "housing\n",
      "['yes' 'no']\n",
      "--------------------------\n",
      "loan\n",
      "['no' 'yes']\n",
      "--------------------------\n",
      "contact\n",
      "['unknown' 'cellular' 'telephone' 'Mobile' 'Tel']\n",
      "--------------------------\n",
      "poutcome\n",
      "['unknown' 'pending' '????' '?' 'failure' 'other' 'success']\n",
      "--------------------------\n"
     ]
    }
   ],
   "source": [
    "## let this code be here. \n",
    "for i in df_cat.columns:\n",
    "    print(i)\n",
    "    print(df[i].unique())\n",
    "    print(\"--------------------------\")\n",
    "    "
   ]
  },
  {
   "cell_type": "code",
   "execution_count": 456,
   "id": "985a31a1",
   "metadata": {},
   "outputs": [],
   "source": [
    "#Changing the name of column\n",
    "df.rename(columns={'poutcome': 'Outcome'}, inplace=True)\n",
    "df['Outcome'].replace({'????':'unknown','?':'unknown'},inplace=True)\n",
    "\n"
   ]
  },
  {
   "cell_type": "code",
   "execution_count": 457,
   "id": "0bca5bd6",
   "metadata": {},
   "outputs": [],
   "source": [
    "#Feature have many unique values and dont have any order so i am performing frequecy encoding\n",
    "dic=df['contact'].value_counts(normalize=True)\n",
    "df['contact'] = df['contact'].map(dic)\n",
    "dic1=df['Outcome'].value_counts(normalize=True)\n",
    "df['Outcome'] = df['Outcome'].map(dic1)\n",
    "dic2=df['job'].value_counts(normalize=True)\n",
    "df['job'] = df['job'].map(dic2)"
   ]
  },
  {
   "cell_type": "code",
   "execution_count": 458,
   "id": "a6b192bb",
   "metadata": {},
   "outputs": [],
   "source": [
    "#Age & Education have a order so we are doing ordinal encoding\n",
    "df['age'].replace({'Elder':1,'Young':2,'Older':0},inplace=True)\n",
    "df['education'].replace({'unknown': 0,\n",
    "    'Primary': 1,\n",
    "    'primary': 1,\n",
    "    'secondary': 2,\n",
    "    'tertiary': 3,\n",
    "    'ter tiary': 3},inplace=True)"
   ]
  },
  {
   "cell_type": "code",
   "execution_count": 459,
   "id": "f1855893",
   "metadata": {},
   "outputs": [],
   "source": [
    "#Converting boalian into numbers \n",
    "df['loan'] = df['loan'].replace({'no':0,'yes':1})\n",
    "df['housing'] = df['housing'].replace({'no':0,'yes':1})\n",
    "df['Insurance'] = df['Insurance'].replace({'no':0,'yes':1})\n"
   ]
  },
  {
   "cell_type": "code",
   "execution_count": 460,
   "id": "8f656414",
   "metadata": {},
   "outputs": [],
   "source": [
    "#Performing dummy encoding on below features because they dont have a lot of categories and they dont have any order\n",
    "marital_dummies = pd.get_dummies(df['marital'], prefix='marital', drop_first=True)\n",
    "gender_dummies = pd.get_dummies(df['Gender'], prefix='Gender', drop_first=True)\n",
    "\n",
    "# Concatenate the dummy columns back to the DataFrame\n",
    "df = pd.concat([df, marital_dummies, gender_dummies], axis=1)\n",
    "\n",
    "# Drop the original 'marital' and 'Gender' columns\n",
    "df.drop(['marital', 'Gender'], axis=1, inplace=True)\n",
    "\n"
   ]
  },
  {
   "cell_type": "code",
   "execution_count": 462,
   "id": "fe40d97a",
   "metadata": {},
   "outputs": [
    {
     "data": {
      "text/html": [
       "<div>\n",
       "<style scoped>\n",
       "    .dataframe tbody tr th:only-of-type {\n",
       "        vertical-align: middle;\n",
       "    }\n",
       "\n",
       "    .dataframe tbody tr th {\n",
       "        vertical-align: top;\n",
       "    }\n",
       "\n",
       "    .dataframe thead th {\n",
       "        text-align: right;\n",
       "    }\n",
       "</style>\n",
       "<table border=\"1\" class=\"dataframe\">\n",
       "  <thead>\n",
       "    <tr style=\"text-align: right;\">\n",
       "      <th></th>\n",
       "      <th>age</th>\n",
       "      <th>job</th>\n",
       "      <th>education</th>\n",
       "      <th>Annual Income</th>\n",
       "      <th>Insurance</th>\n",
       "      <th>balance</th>\n",
       "      <th>housing</th>\n",
       "      <th>loan</th>\n",
       "      <th>contact</th>\n",
       "      <th>duration</th>\n",
       "      <th>campaign</th>\n",
       "      <th>last_contact_day</th>\n",
       "      <th>previous</th>\n",
       "      <th>Outcome</th>\n",
       "      <th>Term Deposit</th>\n",
       "      <th>marital_married</th>\n",
       "      <th>marital_single</th>\n",
       "      <th>Gender_M</th>\n",
       "    </tr>\n",
       "  </thead>\n",
       "  <tbody>\n",
       "    <tr>\n",
       "      <th>0</th>\n",
       "      <td>1</td>\n",
       "      <td>0.209430</td>\n",
       "      <td>3</td>\n",
       "      <td>-1.259870</td>\n",
       "      <td>0</td>\n",
       "      <td>0.242570</td>\n",
       "      <td>1</td>\n",
       "      <td>0</td>\n",
       "      <td>0.287121</td>\n",
       "      <td>0.011245</td>\n",
       "      <td>-0.570936</td>\n",
       "      <td>-0.400862</td>\n",
       "      <td>-0.252008</td>\n",
       "      <td>0.816075</td>\n",
       "      <td>0.0</td>\n",
       "      <td>1</td>\n",
       "      <td>0</td>\n",
       "      <td>1</td>\n",
       "    </tr>\n",
       "    <tr>\n",
       "      <th>1</th>\n",
       "      <td>2</td>\n",
       "      <td>0.168001</td>\n",
       "      <td>2</td>\n",
       "      <td>-0.819564</td>\n",
       "      <td>0</td>\n",
       "      <td>-0.461050</td>\n",
       "      <td>1</td>\n",
       "      <td>0</td>\n",
       "      <td>0.287121</td>\n",
       "      <td>-0.415765</td>\n",
       "      <td>-0.570936</td>\n",
       "      <td>-0.400862</td>\n",
       "      <td>-0.252008</td>\n",
       "      <td>0.816075</td>\n",
       "      <td>0.0</td>\n",
       "      <td>0</td>\n",
       "      <td>1</td>\n",
       "      <td>1</td>\n",
       "    </tr>\n",
       "    <tr>\n",
       "      <th>3</th>\n",
       "      <td>1</td>\n",
       "      <td>0.002173</td>\n",
       "      <td>0</td>\n",
       "      <td>0.439938</td>\n",
       "      <td>0</td>\n",
       "      <td>0.030552</td>\n",
       "      <td>1</td>\n",
       "      <td>0</td>\n",
       "      <td>0.287121</td>\n",
       "      <td>-0.644798</td>\n",
       "      <td>-0.570936</td>\n",
       "      <td>-0.400862</td>\n",
       "      <td>-0.252008</td>\n",
       "      <td>0.816075</td>\n",
       "      <td>0.0</td>\n",
       "      <td>1</td>\n",
       "      <td>0</td>\n",
       "      <td>0</td>\n",
       "    </tr>\n",
       "    <tr>\n",
       "      <th>4</th>\n",
       "      <td>2</td>\n",
       "      <td>0.006387</td>\n",
       "      <td>0</td>\n",
       "      <td>-0.023293</td>\n",
       "      <td>0</td>\n",
       "      <td>-0.470370</td>\n",
       "      <td>0</td>\n",
       "      <td>0</td>\n",
       "      <td>0.287121</td>\n",
       "      <td>-0.233315</td>\n",
       "      <td>-0.570936</td>\n",
       "      <td>-0.400862</td>\n",
       "      <td>-0.252008</td>\n",
       "      <td>0.816075</td>\n",
       "      <td>0.0</td>\n",
       "      <td>0</td>\n",
       "      <td>1</td>\n",
       "      <td>1</td>\n",
       "    </tr>\n",
       "    <tr>\n",
       "      <th>5</th>\n",
       "      <td>2</td>\n",
       "      <td>0.209430</td>\n",
       "      <td>3</td>\n",
       "      <td>0.980264</td>\n",
       "      <td>0</td>\n",
       "      <td>-0.393817</td>\n",
       "      <td>1</td>\n",
       "      <td>0</td>\n",
       "      <td>0.287121</td>\n",
       "      <td>-0.462348</td>\n",
       "      <td>-0.570936</td>\n",
       "      <td>-0.400862</td>\n",
       "      <td>-0.252008</td>\n",
       "      <td>0.816075</td>\n",
       "      <td>0.0</td>\n",
       "      <td>1</td>\n",
       "      <td>0</td>\n",
       "      <td>1</td>\n",
       "    </tr>\n",
       "  </tbody>\n",
       "</table>\n",
       "</div>"
      ],
      "text/plain": [
       "   age       job  education  Annual Income  Insurance   balance  housing  \\\n",
       "0    1  0.209430          3      -1.259870          0  0.242570        1   \n",
       "1    2  0.168001          2      -0.819564          0 -0.461050        1   \n",
       "3    1  0.002173          0       0.439938          0  0.030552        1   \n",
       "4    2  0.006387          0      -0.023293          0 -0.470370        0   \n",
       "5    2  0.209430          3       0.980264          0 -0.393817        1   \n",
       "\n",
       "   loan   contact  duration  campaign  last_contact_day  previous   Outcome  \\\n",
       "0     0  0.287121  0.011245 -0.570936         -0.400862 -0.252008  0.816075   \n",
       "1     0  0.287121 -0.415765 -0.570936         -0.400862 -0.252008  0.816075   \n",
       "3     0  0.287121 -0.644798 -0.570936         -0.400862 -0.252008  0.816075   \n",
       "4     0  0.287121 -0.233315 -0.570936         -0.400862 -0.252008  0.816075   \n",
       "5     0  0.287121 -0.462348 -0.570936         -0.400862 -0.252008  0.816075   \n",
       "\n",
       "   Term Deposit  marital_married  marital_single  Gender_M  \n",
       "0           0.0                1               0         1  \n",
       "1           0.0                0               1         1  \n",
       "3           0.0                1               0         0  \n",
       "4           0.0                0               1         1  \n",
       "5           0.0                1               0         1  "
      ]
     },
     "execution_count": 462,
     "metadata": {},
     "output_type": "execute_result"
    }
   ],
   "source": [
    "df.head()"
   ]
  },
  {
   "cell_type": "markdown",
   "id": "dedc7efa",
   "metadata": {},
   "source": [
    "### 2.3 Train-Test Split"
   ]
  },
  {
   "cell_type": "code",
   "execution_count": 465,
   "id": "323654c0",
   "metadata": {},
   "outputs": [
    {
     "name": "stdout",
     "output_type": "stream",
     "text": [
      "x_train (36071, 17)\n",
      "y_train (36071,)\n",
      "x_test (9018, 17)\n",
      "y_test (9018,)\n"
     ]
    }
   ],
   "source": [
    "x_train, x_test, y_train, y_test = train_test_split(df_var, df_target, random_state = 10, test_size = 0.2)\n",
    "print('x_train', x_train.shape)\n",
    "print('y_train', y_train.shape)\n",
    "\n",
    "# print dimension of test set\n",
    "print('x_test', x_test.shape)\n",
    "print('y_test', y_test.shape)"
   ]
  },
  {
   "cell_type": "markdown",
   "id": "58c93583",
   "metadata": {},
   "source": [
    "### 2.4 Create a generalized function to calculate the metrics for the train and the test set."
   ]
  },
  {
   "cell_type": "code",
   "execution_count": 466,
   "id": "c87b4773",
   "metadata": {},
   "outputs": [],
   "source": [
    "# create a generalized function to calculate the metrics values for train set\n",
    "def get_train_report(model):\n",
    "    train_pred = model.predict(x_train)\n",
    "    return(classification_report(y_train, train_pred))"
   ]
  },
  {
   "cell_type": "code",
   "execution_count": 467,
   "id": "96e12e00",
   "metadata": {},
   "outputs": [],
   "source": [
    "# create a generalized function to calculate the metrics values for test set\n",
    "def get_test_report(model):\n",
    "    test_pred = model.predict(x_test)\n",
    "    return(classification_report(y_test, test_pred))"
   ]
  },
  {
   "cell_type": "markdown",
   "id": "56630fdf",
   "metadata": {},
   "source": [
    "# Models using Train Test Split"
   ]
  },
  {
   "cell_type": "markdown",
   "id": "0609217d",
   "metadata": {},
   "source": [
    "## 3. Decision Tree for Classification"
   ]
  },
  {
   "cell_type": "markdown",
   "id": "babe5563",
   "metadata": {},
   "source": [
    "Decision Tree is a non-parametric supervised learning method. It builds a model in the form of a tree structure. It breaks down a dataset into smaller and smaller subsets, which is called splitting. A decision node is a node on which a decision of split is to be made. A node that can not be split further is known as the terminal/leaf node. A leaf node represents the decision. A decision tree can work with both numerical and categorical variables.\n",
    "\n",
    "A decision tree for classification is built using criteria like the Gini index and entropy."
   ]
  },
  {
   "cell_type": "markdown",
   "id": "1b263579",
   "metadata": {},
   "source": [
    "#### Build a full decision tree model on a train dataset using 'entropy'."
   ]
  },
  {
   "cell_type": "code",
   "execution_count": 471,
   "id": "6eda6031",
   "metadata": {},
   "outputs": [],
   "source": [
    "decision_tree_classification = DecisionTreeClassifier(criterion = 'entropy', random_state = 10)\n",
    "decision_tree = decision_tree_classification.fit(x_train, y_train)"
   ]
  },
  {
   "cell_type": "markdown",
   "id": "b08b27d5",
   "metadata": {},
   "source": [
    "**Calculate performance measures on the train set.**"
   ]
  },
  {
   "cell_type": "code",
   "execution_count": 472,
   "id": "458236e2",
   "metadata": {},
   "outputs": [
    {
     "name": "stdout",
     "output_type": "stream",
     "text": [
      "              precision    recall  f1-score   support\n",
      "\n",
      "         0.0       1.00      1.00      1.00     31846\n",
      "         1.0       1.00      1.00      1.00      4225\n",
      "\n",
      "    accuracy                           1.00     36071\n",
      "   macro avg       1.00      1.00      1.00     36071\n",
      "weighted avg       1.00      1.00      1.00     36071\n",
      "\n"
     ]
    }
   ],
   "source": [
    "train_report = get_train_report(decision_tree)\n",
    "print(train_report)"
   ]
  },
  {
   "cell_type": "markdown",
   "id": "c017736f",
   "metadata": {},
   "source": [
    "**Calculate performance measures on the test set.**"
   ]
  },
  {
   "cell_type": "code",
   "execution_count": 473,
   "id": "7655c074",
   "metadata": {},
   "outputs": [
    {
     "name": "stdout",
     "output_type": "stream",
     "text": [
      "              precision    recall  f1-score   support\n",
      "\n",
      "         0.0       0.92      0.92      0.92      7966\n",
      "         1.0       0.41      0.43      0.42      1052\n",
      "\n",
      "    accuracy                           0.86      9018\n",
      "   macro avg       0.66      0.67      0.67      9018\n",
      "weighted avg       0.86      0.86      0.86      9018\n",
      "\n"
     ]
    }
   ],
   "source": [
    "test_report = get_test_report(decision_tree)\n",
    "print(test_report)"
   ]
  },
  {
   "cell_type": "markdown",
   "id": "83026c7e",
   "metadata": {},
   "source": [
    "**Interpretation:** From the above output, we can see that there is a difference between the train and test recall; thus, we can conclude that the decision tree is highely over-fitted on the train data."
   ]
  },
  {
   "cell_type": "markdown",
   "id": "17010b7c",
   "metadata": {},
   "source": [
    "## 4. Random Forest for Classification"
   ]
  },
  {
   "cell_type": "markdown",
   "id": "34391e7b",
   "metadata": {},
   "source": [
    "It is the method of constructing multiple decision trees on randomly selected data samples. We can use the bootstrap sampling method to select the random samples of the same size from the dataset to construct multiple trees. This method is used for both regression and classification analysis. The random forest returns the prediction based on all the individual decision trees prediction. For regression, it returns the average of all the predicted values; and for classification, it returns the class, which is the mode of all the predicted classes. \n",
    "\n",
    "It avoids the over-fitting problem as it considers a random data sample to construct a decision tree. "
   ]
  },
  {
   "cell_type": "code",
   "execution_count": 474,
   "id": "f8062c67",
   "metadata": {},
   "outputs": [],
   "source": [
    "rf_classification = RandomForestClassifier(n_estimators = 10, random_state = 10)\n",
    "rf_model = rf_classification.fit(x_train, y_train)"
   ]
  },
  {
   "cell_type": "markdown",
   "id": "37dce2a5",
   "metadata": {},
   "source": [
    "**Calculate performance measures on the train set.**"
   ]
  },
  {
   "cell_type": "code",
   "execution_count": 475,
   "id": "d45d8798",
   "metadata": {},
   "outputs": [
    {
     "name": "stdout",
     "output_type": "stream",
     "text": [
      "              precision    recall  f1-score   support\n",
      "\n",
      "         0.0       0.99      1.00      0.99     31846\n",
      "         1.0       1.00      0.93      0.96      4225\n",
      "\n",
      "    accuracy                           0.99     36071\n",
      "   macro avg       0.99      0.96      0.98     36071\n",
      "weighted avg       0.99      0.99      0.99     36071\n",
      "\n"
     ]
    }
   ],
   "source": [
    "train_report = get_train_report(rf_model)\n",
    "print(train_report) "
   ]
  },
  {
   "cell_type": "markdown",
   "id": "6dc3d50b",
   "metadata": {},
   "source": [
    "**Calculate performance measures on the test set.**"
   ]
  },
  {
   "cell_type": "code",
   "execution_count": 476,
   "id": "ab928953",
   "metadata": {},
   "outputs": [
    {
     "name": "stdout",
     "output_type": "stream",
     "text": [
      "              precision    recall  f1-score   support\n",
      "\n",
      "         0.0       0.92      0.97      0.94      7966\n",
      "         1.0       0.59      0.33      0.43      1052\n",
      "\n",
      "    accuracy                           0.90      9018\n",
      "   macro avg       0.75      0.65      0.68      9018\n",
      "weighted avg       0.88      0.90      0.88      9018\n",
      "\n"
     ]
    }
   ],
   "source": [
    "test_report = get_test_report(rf_model)\n",
    "print(test_report) "
   ]
  },
  {
   "cell_type": "markdown",
   "id": "4af08775",
   "metadata": {},
   "source": [
    "### Identify the Important Features"
   ]
  },
  {
   "cell_type": "markdown",
   "id": "ea6748c6",
   "metadata": {},
   "source": [
    "Let us create a barplot to identify the important feature in the dataset.\n",
    "\n",
    "The method `feature_importances_` returns the value corresponding to each feature which is defined as the ratio of total decrease in `Gini impurity` across every tree in the forest where the feature is used to the total count of trees in the forest. This is also caled as, `Gini Importance`.\n",
    "\n",
    "There is another `accuracy-based` method. It calculates the average decrease in the accuracy calculated on the out-of-bag samples, with and without shuffling the variable across all the trees in the random forest. \n",
    "The `out-of-bag` samples are the samples in the training dataset which are not considered whild building a tree."
   ]
  },
  {
   "cell_type": "code",
   "execution_count": 478,
   "id": "1fbe1e90",
   "metadata": {},
   "outputs": [
    {
     "data": {
      "image/png": "[encoded data removed]",
      "text/plain": [
       "<Figure size 1224x648 with 1 Axes>"
      ]
     },
     "metadata": {
      "needs_background": "light"
     },
     "output_type": "display_data"
    }
   ],
   "source": [
    "important_features = pd.DataFrame({'Features': x_train.columns, \n",
    "                                   'Importance': rf_model.feature_importances_})\n",
    "important_features = important_features.sort_values('Importance', ascending = False)\n",
    "sns.barplot(x = 'Importance', y = 'Features', data = important_features)\n",
    "plt.title('Feature Importance', fontsize = 15)\n",
    "plt.xlabel('Importance', fontsize = 15)\n",
    "plt.ylabel('Features', fontsize = 15)\n",
    "plt.show()"
   ]
  },
  {
   "cell_type": "markdown",
   "id": "f07ce4d2",
   "metadata": {},
   "source": [
    "**Interpretation:** From the above bar plot, we can see that `duration` is the most important feature in the dataset."
   ]
  },
  {
   "cell_type": "markdown",
   "id": "65aadf5f",
   "metadata": {},
   "source": [
    "#### Define a function to plot the ROC curve."
   ]
  },
  {
   "cell_type": "code",
   "execution_count": 488,
   "id": "b8370173",
   "metadata": {},
   "outputs": [
    {
     "data": {
      "image/png": "[encoded data removed]",
      "text/plain": [
       "<Figure size 576x432 with 1 Axes>"
      ]
     },
     "metadata": {
      "needs_background": "light"
     },
     "output_type": "display_data"
    }
   ],
   "source": [
    "import matplotlib.pyplot as plt\n",
    "from sklearn.metrics import roc_curve, roc_auc_score\n",
    "\n",
    "def plot_roc(model, test_data, y_test):\n",
    "    y_pred_prob = model.predict_proba(test_data)[:, 1]\n",
    "    fpr, tpr, thresholds = roc_curve(y_test, y_pred_prob)\n",
    "    \n",
    "    plt.figure(figsize=(8, 6))\n",
    "    plt.plot(fpr, tpr, label='ROC curve')\n",
    "    plt.plot([0, 1], [0, 1], 'r--', label='Random Classifier')\n",
    "    plt.xlim([0.0, 1.0])\n",
    "    plt.ylim([0.0, 1.0])\n",
    "    plt.title('ROC curve for Classifier', fontsize=15)\n",
    "    plt.xlabel('False positive rate (1 - Specificity)', fontsize=12)\n",
    "    plt.ylabel('True positive rate (Sensitivity)', fontsize=12)\n",
    "    plt.text(0.02, 0.9, f'AUC Score: {roc_auc_score(y_test, y_pred_prob):.4f}', fontsize=12)\n",
    "    plt.legend()\n",
    "    plt.grid(True)\n",
    "    plt.show()\n",
    "\n",
    "# Example usage:\n",
    "# Assuming you have trained a model and have test data (X_test) and true labels (y_test)\n",
    "plot_roc(rf_model, x_test, y_test)\n"
   ]
  },
  {
   "cell_type": "markdown",
   "id": "f99e74a5",
   "metadata": {},
   "source": [
    "### 5. Boosting Methods"
   ]
  },
  {
   "cell_type": "markdown",
   "id": "2d5789c6",
   "metadata": {},
   "source": [
    "The Ensemble technique considers multiple models for predicting the results. `Bagging` and `Boosting` are two of the types of ensembles. The bagging methods construct the multiple models in parallel; whereas, the boosting methods construct the models sequentially."
   ]
  },
  {
   "cell_type": "markdown",
   "id": "7617fc78",
   "metadata": {},
   "source": [
    "The boosting method fits multiple weak classifiers to create a strong classifier. In this method, the model tries to correct the errors in the previous model."
   ]
  },
  {
   "cell_type": "markdown",
   "id": "1f22e7d9",
   "metadata": {},
   "source": [
    "## 5.1 AdaBoost"
   ]
  },
  {
   "cell_type": "markdown",
   "id": "3970f7e2",
   "metadata": {},
   "source": [
    "Let us build the AdaBoost classifier with decision trees. The model creates several stumps (decision tree with only a single decision node and two leaf nodes) on the train set and predicts the class based on these weak learners (stumps). For the first model, it assigns equal weights to each sample. It assigns the higher weight for the wrongly predicted samples and lower weight for the correctly predicted samples. This method continues till all the observations are correctly classified or the predefined number of stumps is created."
   ]
  },
  {
   "cell_type": "markdown",
   "id": "ec230441",
   "metadata": {},
   "source": [
    "#### Build an Adaboost model on a training dataset."
   ]
  },
  {
   "cell_type": "code",
   "execution_count": 490,
   "id": "4ad777ce",
   "metadata": {},
   "outputs": [
    {
     "data": {
      "text/html": [
       "<style>#sk-container-id-1 {color: black;background-color: white;}#sk-container-id-1 pre{padding: 0;}#sk-container-id-1 div.sk-toggleable {background-color: white;}#sk-container-id-1 label.sk-toggleable__label {cursor: pointer;display: block;width: 100%;margin-bottom: 0;padding: 0.3em;box-sizing: border-box;text-align: center;}#sk-container-id-1 label.sk-toggleable__label-arrow:before {content: \"▸\";float: left;margin-right: 0.25em;color: #696969;}#sk-container-id-1 label.sk-toggleable__label-arrow:hover:before {color: black;}#sk-container-id-1 div.sk-estimator:hover label.sk-toggleable__label-arrow:before {color: black;}#sk-container-id-1 div.sk-toggleable__content {max-height: 0;max-width: 0;overflow: hidden;text-align: left;background-color: #f0f8ff;}#sk-container-id-1 div.sk-toggleable__content pre {margin: 0.2em;color: black;border-radius: 0.25em;background-color: #f0f8ff;}#sk-container-id-1 input.sk-toggleable__control:checked~div.sk-toggleable__content {max-height: 200px;max-width: 100%;overflow: auto;}#sk-container-id-1 input.sk-toggleable__control:checked~label.sk-toggleable__label-arrow:before {content: \"▾\";}#sk-container-id-1 div.sk-estimator input.sk-toggleable__control:checked~label.sk-toggleable__label {background-color: #d4ebff;}#sk-container-id-1 div.sk-label input.sk-toggleable__control:checked~label.sk-toggleable__label {background-color: #d4ebff;}#sk-container-id-1 input.sk-hidden--visually {border: 0;clip: rect(1px 1px 1px 1px);clip: rect(1px, 1px, 1px, 1px);height: 1px;margin: -1px;overflow: hidden;padding: 0;position: absolute;width: 1px;}#sk-container-id-1 div.sk-estimator {font-family: monospace;background-color: #f0f8ff;border: 1px dotted black;border-radius: 0.25em;box-sizing: border-box;margin-bottom: 0.5em;}#sk-container-id-1 div.sk-estimator:hover {background-color: #d4ebff;}#sk-container-id-1 div.sk-parallel-item::after {content: \"\";width: 100%;border-bottom: 1px solid gray;flex-grow: 1;}#sk-container-id-1 div.sk-label:hover label.sk-toggleable__label {background-color: #d4ebff;}#sk-container-id-1 div.sk-serial::before {content: \"\";position: absolute;border-left: 1px solid gray;box-sizing: border-box;top: 0;bottom: 0;left: 50%;z-index: 0;}#sk-container-id-1 div.sk-serial {display: flex;flex-direction: column;align-items: center;background-color: white;padding-right: 0.2em;padding-left: 0.2em;position: relative;}#sk-container-id-1 div.sk-item {position: relative;z-index: 1;}#sk-container-id-1 div.sk-parallel {display: flex;align-items: stretch;justify-content: center;background-color: white;position: relative;}#sk-container-id-1 div.sk-item::before, #sk-container-id-1 div.sk-parallel-item::before {content: \"\";position: absolute;border-left: 1px solid gray;box-sizing: border-box;top: 0;bottom: 0;left: 50%;z-index: -1;}#sk-container-id-1 div.sk-parallel-item {display: flex;flex-direction: column;z-index: 1;position: relative;background-color: white;}#sk-container-id-1 div.sk-parallel-item:first-child::after {align-self: flex-end;width: 50%;}#sk-container-id-1 div.sk-parallel-item:last-child::after {align-self: flex-start;width: 50%;}#sk-container-id-1 div.sk-parallel-item:only-child::after {width: 0;}#sk-container-id-1 div.sk-dashed-wrapped {border: 1px dashed gray;margin: 0 0.4em 0.5em 0.4em;box-sizing: border-box;padding-bottom: 0.4em;background-color: white;}#sk-container-id-1 div.sk-label label {font-family: monospace;font-weight: bold;display: inline-block;line-height: 1.2em;}#sk-container-id-1 div.sk-label-container {text-align: center;}#sk-container-id-1 div.sk-container {/* jupyter's `normalize.less` sets `[hidden] { display: none; }` but bootstrap.min.css set `[hidden] { display: none !important; }` so we also need the `!important` here to be able to override the default hidden behavior on the sphinx rendered scikit-learn.org. See: https://github.com/scikit-learn/scikit-learn/issues/21755 */display: inline-block !important;position: relative;}#sk-container-id-1 div.sk-text-repr-fallback {display: none;}</style><div id=\"sk-container-id-1\" class=\"sk-top-container\"><div class=\"sk-text-repr-fallback\"><pre>AdaBoostClassifier(n_estimators=40, random_state=10)</pre><b>In a Jupyter environment, please rerun this cell to show the HTML representation or trust the notebook. <br />On GitHub, the HTML representation is unable to render, please try loading this page with nbviewer.org.</b></div><div class=\"sk-container\" hidden><div class=\"sk-item\"><div class=\"sk-estimator sk-toggleable\"><input class=\"sk-toggleable__control sk-hidden--visually\" id=\"sk-estimator-id-1\" type=\"checkbox\" checked><label for=\"sk-estimator-id-1\" class=\"sk-toggleable__label sk-toggleable__label-arrow\">AdaBoostClassifier</label><div class=\"sk-toggleable__content\"><pre>AdaBoostClassifier(n_estimators=40, random_state=10)</pre></div></div></div></div></div>"
      ],
      "text/plain": [
       "AdaBoostClassifier(n_estimators=40, random_state=10)"
      ]
     },
     "execution_count": 490,
     "metadata": {},
     "output_type": "execute_result"
    }
   ],
   "source": [
    "ada_model = AdaBoostClassifier(n_estimators = 40, random_state = 10)\n",
    "ada_model.fit(x_train, y_train)"
   ]
  },
  {
   "cell_type": "markdown",
   "id": "ba4d87b4",
   "metadata": {},
   "source": [
    "**Calculate performance measures on the test set.**"
   ]
  },
  {
   "cell_type": "code",
   "execution_count": 494,
   "id": "387c5923",
   "metadata": {},
   "outputs": [
    {
     "name": "stdout",
     "output_type": "stream",
     "text": [
      "              precision    recall  f1-score   support\n",
      "\n",
      "         0.0       0.92      0.97      0.94      7966\n",
      "         1.0       0.62      0.35      0.45      1052\n",
      "\n",
      "    accuracy                           0.90      9018\n",
      "   macro avg       0.77      0.66      0.70      9018\n",
      "weighted avg       0.88      0.90      0.89      9018\n",
      "\n"
     ]
    }
   ],
   "source": [
    "test_report = get_test_report(ada_model)\n",
    "print(test_report)"
   ]
  },
  {
   "cell_type": "markdown",
   "id": "364cb092",
   "metadata": {},
   "source": [
    "#### Plot the ROC curve."
   ]
  },
  {
   "cell_type": "code",
   "execution_count": 496,
   "id": "43787d5d",
   "metadata": {},
   "outputs": [
    {
     "data": {
      "image/png": "[encoded data removed]",
      "text/plain": [
       "<Figure size 576x432 with 1 Axes>"
      ]
     },
     "metadata": {
      "needs_background": "light"
     },
     "output_type": "display_data"
    }
   ],
   "source": [
    "plot_roc(ada_model, x_test, y_test)"
   ]
  },
  {
   "cell_type": "code",
   "execution_count": 501,
   "id": "de403fcd",
   "metadata": {},
   "outputs": [
    {
     "name": "stdout",
     "output_type": "stream",
     "text": [
      "              precision    recall  f1-score   support\n",
      "\n",
      "         0.0       0.93      0.87      0.90      7966\n",
      "         1.0       0.34      0.51      0.41      1052\n",
      "\n",
      "    accuracy                           0.83      9018\n",
      "   macro avg       0.63      0.69      0.65      9018\n",
      "weighted avg       0.86      0.83      0.84      9018\n",
      "\n",
      "              precision    recall  f1-score   support\n",
      "\n",
      "         0.0       0.93      0.87      0.90     31846\n",
      "         1.0       0.35      0.52      0.42      4225\n",
      "\n",
      "    accuracy                           0.83     36071\n",
      "   macro avg       0.64      0.69      0.66     36071\n",
      "weighted avg       0.86      0.83      0.84     36071\n",
      "\n"
     ]
    }
   ],
   "source": [
    "# Initialize the Gaussian Naive Bayes classifier\n",
    "nb_classifier = GaussianNB()\n",
    "\n",
    "# Train the classifier\n",
    "nb_classifier.fit(x_train, y_train)\n",
    "\n",
    "# Make predictions on the test set\n",
    "y_pred = nb_classifier.predict(x_test)\n",
    "y_train_pred=nb_classifier.predict(x_train)\n",
    "# Calculate the accuracy\n",
    "accuracy = accuracy_score(y_test, y_pred)\n",
    "print(classification_report(y_test,y_pred))\n",
    "print(classification_report(y_train,y_train_pred))\n"
   ]
  },
  {
   "cell_type": "markdown",
   "id": "285a25c3",
   "metadata": {},
   "source": [
    "Naive Bayes is giving us better results so for now i am going with it."
   ]
  },
  {
   "cell_type": "markdown",
   "id": "f390a002",
   "metadata": {},
   "source": [
    "# Models using K-Fols Cross Validation"
   ]
  },
  {
   "cell_type": "markdown",
   "id": "40c0c714",
   "metadata": {},
   "source": [
    "Decision Tree"
   ]
  },
  {
   "cell_type": "code",
   "execution_count": 509,
   "id": "105eb058",
   "metadata": {},
   "outputs": [
    {
     "name": "stdout",
     "output_type": "stream",
     "text": [
      "Average roc-auc : 66.52208223465\n",
      "Average recall : 41.421655551663825\n"
     ]
    }
   ],
   "source": [
    "Decision_Tree=DecisionTreeClassifier()\n",
    "kf=KFold(shuffle=True,random_state=42)\n",
    "roc_score=cross_val_score(Decision_Tree,df_var,df_target,scoring='roc_auc',cv=kf)\n",
    "score_recall=cross_val_score(Decision_Tree,df_var,df_target,scoring='recall',cv=kf)\n",
    "Average_score_recall=(np.mean(score_recall))*100\n",
    "Average_Score=(np.mean(roc_score))*100\n",
    "print('Average roc-auc :',Average_Score)\n",
    "print('Average recall :',Average_score_recall)"
   ]
  },
  {
   "cell_type": "markdown",
   "id": "85d131b2",
   "metadata": {},
   "source": [
    "Random Forest"
   ]
  },
  {
   "cell_type": "code",
   "execution_count": 510,
   "id": "aadc150a",
   "metadata": {},
   "outputs": [
    {
     "name": "stdout",
     "output_type": "stream",
     "text": [
      "Average roc-auc : 89.28642904387235\n",
      "Average recall : 36.96334955410863\n"
     ]
    }
   ],
   "source": [
    "Random_Forest=RandomForestClassifier()\n",
    "kf=KFold(shuffle=True,random_state=42)\n",
    "roc_score=cross_val_score(Random_Forest,df_var,df_target,scoring='roc_auc',cv=kf)\n",
    "score_recall=cross_val_score(Random_Forest,df_var,df_target,scoring='recall',cv=kf)\n",
    "Average_score_recall=(np.mean(score_recall))*100\n",
    "Average_Score=(np.mean(roc_score))*100\n",
    "print('Average roc-auc :',Average_Score)\n",
    "print('Average recall :',Average_score_recall)"
   ]
  },
  {
   "cell_type": "markdown",
   "id": "c79e067b",
   "metadata": {},
   "source": [
    "Ada Boost"
   ]
  },
  {
   "cell_type": "code",
   "execution_count": 511,
   "id": "9ab878a7",
   "metadata": {},
   "outputs": [
    {
     "name": "stdout",
     "output_type": "stream",
     "text": [
      "Average roc-auc : 89.65806154285627\n",
      "Average recall : 35.5199943450479\n"
     ]
    }
   ],
   "source": [
    "Ada=AdaBoostClassifier()\n",
    "kf=KFold(shuffle=True,random_state=42)\n",
    "roc_score=cross_val_score(Ada,df_var,df_target,scoring='roc_auc',cv=kf)\n",
    "score_recall=cross_val_score(Ada,df_var,df_target,scoring='recall',cv=kf)\n",
    "Average_score_recall=(np.mean(score_recall))*100\n",
    "Average_Score=(np.mean(roc_score))*100\n",
    "print('Average roc-auc :',Average_Score)\n",
    "print('Average recall :',Average_score_recall)"
   ]
  },
  {
   "cell_type": "code",
   "execution_count": 513,
   "id": "02202b2f",
   "metadata": {},
   "outputs": [
    {
     "name": "stdout",
     "output_type": "stream",
     "text": [
      "Average roc-auc : 81.30098131638464\n",
      "Average recall : 52.61882607738209\n"
     ]
    }
   ],
   "source": [
    "nb=GaussianNB()\n",
    "kf=KFold(shuffle=True,random_state=42)\n",
    "roc_score=cross_val_score(nb,df_var,df_target,scoring='roc_auc',cv=kf)\n",
    "score_recall=cross_val_score(nb,df_var,df_target,scoring='recall',cv=kf)\n",
    "Average_score_recall=(np.mean(score_recall))*100\n",
    "Average_Score=(np.mean(roc_score))*100\n",
    "print('Average roc-auc :',Average_Score)\n",
    "print('Average recall :',Average_score_recall)"
   ]
  },
  {
   "cell_type": "markdown",
   "id": "8f76d630",
   "metadata": {},
   "source": [
    "Naive Bayse is giving best score"
   ]
  },
  {
   "cell_type": "code",
   "execution_count": 506,
   "id": "48139266",
   "metadata": {},
   "outputs": [
    {
     "name": "stdout",
     "output_type": "stream",
     "text": [
      "Fitting model... Naive_bayes\n",
      "Fitting model... Decision_Tree\n",
      "Fitting model... Random_forest\n",
      "Fitting model... Ada_Boost\n"
     ]
    },
    {
     "data": {
      "text/html": [
       "<div>\n",
       "<style scoped>\n",
       "    .dataframe tbody tr th:only-of-type {\n",
       "        vertical-align: middle;\n",
       "    }\n",
       "\n",
       "    .dataframe tbody tr th {\n",
       "        vertical-align: top;\n",
       "    }\n",
       "\n",
       "    .dataframe thead th {\n",
       "        text-align: right;\n",
       "    }\n",
       "</style>\n",
       "<table border=\"1\" class=\"dataframe\">\n",
       "  <thead>\n",
       "    <tr style=\"text-align: right;\">\n",
       "      <th></th>\n",
       "      <th>model name</th>\n",
       "      <th>accuracy</th>\n",
       "      <th>recall</th>\n",
       "      <th>precision</th>\n",
       "      <th>roc auc</th>\n",
       "      <th>f1 score</th>\n",
       "      <th>cohen_kappa_score</th>\n",
       "    </tr>\n",
       "  </thead>\n",
       "  <tbody>\n",
       "    <tr>\n",
       "      <th>2</th>\n",
       "      <td>Random_forest</td>\n",
       "      <td>0.898758</td>\n",
       "      <td>0.361217</td>\n",
       "      <td>0.611916</td>\n",
       "      <td>0.665482</td>\n",
       "      <td>0.454274</td>\n",
       "      <td>0.402531</td>\n",
       "    </tr>\n",
       "    <tr>\n",
       "      <th>3</th>\n",
       "      <td>Ada_Boost</td>\n",
       "      <td>0.897871</td>\n",
       "      <td>0.352662</td>\n",
       "      <td>0.607201</td>\n",
       "      <td>0.661267</td>\n",
       "      <td>0.446182</td>\n",
       "      <td>0.394257</td>\n",
       "    </tr>\n",
       "    <tr>\n",
       "      <th>0</th>\n",
       "      <td>Naive_bayes</td>\n",
       "      <td>0.825904</td>\n",
       "      <td>0.514259</td>\n",
       "      <td>0.338125</td>\n",
       "      <td>0.690659</td>\n",
       "      <td>0.407994</td>\n",
       "      <td>0.311011</td>\n",
       "    </tr>\n",
       "    <tr>\n",
       "      <th>1</th>\n",
       "      <td>Decision_Tree</td>\n",
       "      <td>0.852961</td>\n",
       "      <td>0.411597</td>\n",
       "      <td>0.379825</td>\n",
       "      <td>0.661422</td>\n",
       "      <td>0.395073</td>\n",
       "      <td>0.311536</td>\n",
       "    </tr>\n",
       "  </tbody>\n",
       "</table>\n",
       "</div>"
      ],
      "text/plain": [
       "      model name  accuracy    recall precision   roc auc  f1 score  \\\n",
       "2  Random_forest  0.898758  0.361217  0.611916  0.665482  0.454274   \n",
       "3      Ada_Boost  0.897871  0.352662  0.607201  0.661267  0.446182   \n",
       "0    Naive_bayes  0.825904  0.514259  0.338125  0.690659  0.407994   \n",
       "1  Decision_Tree  0.852961  0.411597  0.379825  0.661422  0.395073   \n",
       "\n",
       "   cohen_kappa_score  \n",
       "2           0.402531  \n",
       "3           0.394257  \n",
       "0           0.311011  \n",
       "1           0.311536  "
      ]
     },
     "execution_count": 506,
     "metadata": {},
     "output_type": "execute_result"
    }
   ],
   "source": [
    "clfs = {\n",
    "    'Naive_bayes' : GaussianNB(),\n",
    "    'Decision_Tree' : DecisionTreeClassifier(),\n",
    "    'Random_forest' : RandomForestClassifier(),\n",
    "    'Ada_Boost' : AdaBoostClassifier()\n",
    "}\n",
    "\n",
    "models_report = pd.DataFrame(columns=['model name', 'accuracy', 'recall', 'precision', 'roc auc', 'f1 score'])\n",
    "\n",
    "for clf, clf_name in list(zip(clfs.values(), clfs.keys())):\n",
    "    clf.fit(x_train, y_train)\n",
    "    y_pred = clf.predict(x_test)\n",
    "    print('Fitting model...', clf_name)\n",
    "    t = {'model name' : clf_name,\n",
    "        'accuracy' : accuracy_score(y_test,y_pred),\n",
    "        'recall' : recall_score(y_test,y_pred),\n",
    "        'precision' : precision_score(y_test,y_pred),\n",
    "         'roc auc' : roc_auc_score(y_test,y_pred),\n",
    "        'f1 score' : f1_score(y_test,y_pred),\n",
    "         'cohen_kappa_score' : cohen_kappa_score(y_test,y_pred)\n",
    "        }\n",
    "    models_report = models_report.append(t, ignore_index=True)\n",
    "\n",
    "models_report = models_report.sort_values(by='f1 score', ascending=False)\n",
    "models_report\n"
   ]
  },
  {
   "cell_type": "markdown",
   "id": "aa828b6a",
   "metadata": {},
   "source": [
    "# Model using Auto ML (PYCARET)"
   ]
  },
  {
   "cell_type": "code",
   "execution_count": 515,
   "id": "a393f2e8",
   "metadata": {},
   "outputs": [
    {
     "data": {
      "text/html": [
       "<style type=\"text/css\">\n",
       "#T_a8b48_row8_col1 {\n",
       "  background-color: lightgreen;\n",
       "}\n",
       "</style>\n",
       "<table id=\"T_a8b48\">\n",
       "  <thead>\n",
       "    <tr>\n",
       "      <th class=\"blank level0\" >&nbsp;</th>\n",
       "      <th id=\"T_a8b48_level0_col0\" class=\"col_heading level0 col0\" >Description</th>\n",
       "      <th id=\"T_a8b48_level0_col1\" class=\"col_heading level0 col1\" >Value</th>\n",
       "    </tr>\n",
       "  </thead>\n",
       "  <tbody>\n",
       "    <tr>\n",
       "      <th id=\"T_a8b48_level0_row0\" class=\"row_heading level0 row0\" >0</th>\n",
       "      <td id=\"T_a8b48_row0_col0\" class=\"data row0 col0\" >Session id</td>\n",
       "      <td id=\"T_a8b48_row0_col1\" class=\"data row0 col1\" >42</td>\n",
       "    </tr>\n",
       "    <tr>\n",
       "      <th id=\"T_a8b48_level0_row1\" class=\"row_heading level0 row1\" >1</th>\n",
       "      <td id=\"T_a8b48_row1_col0\" class=\"data row1 col0\" >Target</td>\n",
       "      <td id=\"T_a8b48_row1_col1\" class=\"data row1 col1\" >Term Deposit</td>\n",
       "    </tr>\n",
       "    <tr>\n",
       "      <th id=\"T_a8b48_level0_row2\" class=\"row_heading level0 row2\" >2</th>\n",
       "      <td id=\"T_a8b48_row2_col0\" class=\"data row2 col0\" >Target type</td>\n",
       "      <td id=\"T_a8b48_row2_col1\" class=\"data row2 col1\" >Binary</td>\n",
       "    </tr>\n",
       "    <tr>\n",
       "      <th id=\"T_a8b48_level0_row3\" class=\"row_heading level0 row3\" >3</th>\n",
       "      <td id=\"T_a8b48_row3_col0\" class=\"data row3 col0\" >Original data shape</td>\n",
       "      <td id=\"T_a8b48_row3_col1\" class=\"data row3 col1\" >(45089, 18)</td>\n",
       "    </tr>\n",
       "    <tr>\n",
       "      <th id=\"T_a8b48_level0_row4\" class=\"row_heading level0 row4\" >4</th>\n",
       "      <td id=\"T_a8b48_row4_col0\" class=\"data row4 col0\" >Transformed data shape</td>\n",
       "      <td id=\"T_a8b48_row4_col1\" class=\"data row4 col1\" >(45089, 18)</td>\n",
       "    </tr>\n",
       "    <tr>\n",
       "      <th id=\"T_a8b48_level0_row5\" class=\"row_heading level0 row5\" >5</th>\n",
       "      <td id=\"T_a8b48_row5_col0\" class=\"data row5 col0\" >Transformed train set shape</td>\n",
       "      <td id=\"T_a8b48_row5_col1\" class=\"data row5 col1\" >(36071, 18)</td>\n",
       "    </tr>\n",
       "    <tr>\n",
       "      <th id=\"T_a8b48_level0_row6\" class=\"row_heading level0 row6\" >6</th>\n",
       "      <td id=\"T_a8b48_row6_col0\" class=\"data row6 col0\" >Transformed test set shape</td>\n",
       "      <td id=\"T_a8b48_row6_col1\" class=\"data row6 col1\" >(9018, 18)</td>\n",
       "    </tr>\n",
       "    <tr>\n",
       "      <th id=\"T_a8b48_level0_row7\" class=\"row_heading level0 row7\" >7</th>\n",
       "      <td id=\"T_a8b48_row7_col0\" class=\"data row7 col0\" >Numeric features</td>\n",
       "      <td id=\"T_a8b48_row7_col1\" class=\"data row7 col1\" >17</td>\n",
       "    </tr>\n",
       "    <tr>\n",
       "      <th id=\"T_a8b48_level0_row8\" class=\"row_heading level0 row8\" >8</th>\n",
       "      <td id=\"T_a8b48_row8_col0\" class=\"data row8 col0\" >Preprocess</td>\n",
       "      <td id=\"T_a8b48_row8_col1\" class=\"data row8 col1\" >True</td>\n",
       "    </tr>\n",
       "    <tr>\n",
       "      <th id=\"T_a8b48_level0_row9\" class=\"row_heading level0 row9\" >9</th>\n",
       "      <td id=\"T_a8b48_row9_col0\" class=\"data row9 col0\" >Imputation type</td>\n",
       "      <td id=\"T_a8b48_row9_col1\" class=\"data row9 col1\" >simple</td>\n",
       "    </tr>\n",
       "    <tr>\n",
       "      <th id=\"T_a8b48_level0_row10\" class=\"row_heading level0 row10\" >10</th>\n",
       "      <td id=\"T_a8b48_row10_col0\" class=\"data row10 col0\" >Numeric imputation</td>\n",
       "      <td id=\"T_a8b48_row10_col1\" class=\"data row10 col1\" >mean</td>\n",
       "    </tr>\n",
       "    <tr>\n",
       "      <th id=\"T_a8b48_level0_row11\" class=\"row_heading level0 row11\" >11</th>\n",
       "      <td id=\"T_a8b48_row11_col0\" class=\"data row11 col0\" >Categorical imputation</td>\n",
       "      <td id=\"T_a8b48_row11_col1\" class=\"data row11 col1\" >mode</td>\n",
       "    </tr>\n",
       "    <tr>\n",
       "      <th id=\"T_a8b48_level0_row12\" class=\"row_heading level0 row12\" >12</th>\n",
       "      <td id=\"T_a8b48_row12_col0\" class=\"data row12 col0\" >Fold Generator</td>\n",
       "      <td id=\"T_a8b48_row12_col1\" class=\"data row12 col1\" >StratifiedKFold</td>\n",
       "    </tr>\n",
       "    <tr>\n",
       "      <th id=\"T_a8b48_level0_row13\" class=\"row_heading level0 row13\" >13</th>\n",
       "      <td id=\"T_a8b48_row13_col0\" class=\"data row13 col0\" >Fold Number</td>\n",
       "      <td id=\"T_a8b48_row13_col1\" class=\"data row13 col1\" >10</td>\n",
       "    </tr>\n",
       "    <tr>\n",
       "      <th id=\"T_a8b48_level0_row14\" class=\"row_heading level0 row14\" >14</th>\n",
       "      <td id=\"T_a8b48_row14_col0\" class=\"data row14 col0\" >CPU Jobs</td>\n",
       "      <td id=\"T_a8b48_row14_col1\" class=\"data row14 col1\" >-1</td>\n",
       "    </tr>\n",
       "    <tr>\n",
       "      <th id=\"T_a8b48_level0_row15\" class=\"row_heading level0 row15\" >15</th>\n",
       "      <td id=\"T_a8b48_row15_col0\" class=\"data row15 col0\" >Use GPU</td>\n",
       "      <td id=\"T_a8b48_row15_col1\" class=\"data row15 col1\" >False</td>\n",
       "    </tr>\n",
       "    <tr>\n",
       "      <th id=\"T_a8b48_level0_row16\" class=\"row_heading level0 row16\" >16</th>\n",
       "      <td id=\"T_a8b48_row16_col0\" class=\"data row16 col0\" >Log Experiment</td>\n",
       "      <td id=\"T_a8b48_row16_col1\" class=\"data row16 col1\" >False</td>\n",
       "    </tr>\n",
       "    <tr>\n",
       "      <th id=\"T_a8b48_level0_row17\" class=\"row_heading level0 row17\" >17</th>\n",
       "      <td id=\"T_a8b48_row17_col0\" class=\"data row17 col0\" >Experiment Name</td>\n",
       "      <td id=\"T_a8b48_row17_col1\" class=\"data row17 col1\" >clf-default-name</td>\n",
       "    </tr>\n",
       "    <tr>\n",
       "      <th id=\"T_a8b48_level0_row18\" class=\"row_heading level0 row18\" >18</th>\n",
       "      <td id=\"T_a8b48_row18_col0\" class=\"data row18 col0\" >USI</td>\n",
       "      <td id=\"T_a8b48_row18_col1\" class=\"data row18 col1\" >2b62</td>\n",
       "    </tr>\n",
       "  </tbody>\n",
       "</table>\n"
      ],
      "text/plain": [
       "<pandas.io.formats.style.Styler at 0x27868e7cbb0>"
      ]
     },
     "metadata": {},
     "output_type": "display_data"
    },
    {
     "data": {
      "text/html": [],
      "text/plain": [
       "<IPython.core.display.HTML object>"
      ]
     },
     "metadata": {},
     "output_type": "display_data"
    },
    {
     "data": {
      "text/html": [
       "<style type=\"text/css\">\n",
       "#T_e735e th {\n",
       "  text-align: left;\n",
       "}\n",
       "#T_e735e_row0_col0, #T_e735e_row0_col2, #T_e735e_row0_col3, #T_e735e_row0_col4, #T_e735e_row1_col0, #T_e735e_row1_col1, #T_e735e_row1_col2, #T_e735e_row1_col3, #T_e735e_row1_col5, #T_e735e_row1_col6, #T_e735e_row1_col7, #T_e735e_row2_col0, #T_e735e_row2_col1, #T_e735e_row2_col3, #T_e735e_row2_col4, #T_e735e_row2_col5, #T_e735e_row2_col6, #T_e735e_row2_col7, #T_e735e_row3_col0, #T_e735e_row3_col1, #T_e735e_row3_col2, #T_e735e_row3_col3, #T_e735e_row3_col4, #T_e735e_row3_col5, #T_e735e_row3_col6, #T_e735e_row3_col7, #T_e735e_row4_col0, #T_e735e_row4_col1, #T_e735e_row4_col2, #T_e735e_row4_col3, #T_e735e_row4_col4, #T_e735e_row4_col5, #T_e735e_row4_col6, #T_e735e_row4_col7, #T_e735e_row5_col0, #T_e735e_row5_col1, #T_e735e_row5_col2, #T_e735e_row5_col3, #T_e735e_row5_col4, #T_e735e_row5_col5, #T_e735e_row5_col6, #T_e735e_row5_col7, #T_e735e_row6_col0, #T_e735e_row6_col1, #T_e735e_row6_col2, #T_e735e_row6_col3, #T_e735e_row6_col4, #T_e735e_row6_col5, #T_e735e_row6_col6, #T_e735e_row6_col7, #T_e735e_row7_col0, #T_e735e_row7_col1, #T_e735e_row7_col2, #T_e735e_row7_col3, #T_e735e_row7_col4, #T_e735e_row7_col5, #T_e735e_row7_col6, #T_e735e_row7_col7, #T_e735e_row8_col0, #T_e735e_row8_col1, #T_e735e_row8_col2, #T_e735e_row8_col3, #T_e735e_row8_col4, #T_e735e_row8_col5, #T_e735e_row8_col6, #T_e735e_row8_col7, #T_e735e_row9_col0, #T_e735e_row9_col1, #T_e735e_row9_col2, #T_e735e_row9_col3, #T_e735e_row9_col4, #T_e735e_row9_col5, #T_e735e_row9_col6, #T_e735e_row9_col7, #T_e735e_row10_col0, #T_e735e_row10_col1, #T_e735e_row10_col2, #T_e735e_row10_col3, #T_e735e_row10_col4, #T_e735e_row10_col5, #T_e735e_row10_col6, #T_e735e_row10_col7, #T_e735e_row11_col0, #T_e735e_row11_col1, #T_e735e_row11_col2, #T_e735e_row11_col3, #T_e735e_row11_col4, #T_e735e_row11_col5, #T_e735e_row11_col6, #T_e735e_row11_col7, #T_e735e_row12_col0, #T_e735e_row12_col1, #T_e735e_row12_col2, #T_e735e_row12_col3, #T_e735e_row12_col4, #T_e735e_row12_col5, #T_e735e_row12_col6, #T_e735e_row12_col7, #T_e735e_row13_col0, #T_e735e_row13_col1, #T_e735e_row13_col2, #T_e735e_row13_col4, #T_e735e_row13_col5, #T_e735e_row13_col6, #T_e735e_row13_col7, #T_e735e_row14_col0, #T_e735e_row14_col1, #T_e735e_row14_col2, #T_e735e_row14_col3, #T_e735e_row14_col4, #T_e735e_row14_col5, #T_e735e_row14_col6, #T_e735e_row14_col7, #T_e735e_row15_col0, #T_e735e_row15_col1, #T_e735e_row15_col2, #T_e735e_row15_col3, #T_e735e_row15_col4, #T_e735e_row15_col5, #T_e735e_row15_col6, #T_e735e_row15_col7 {\n",
       "  text-align: left;\n",
       "}\n",
       "#T_e735e_row0_col1, #T_e735e_row0_col5, #T_e735e_row0_col6, #T_e735e_row0_col7, #T_e735e_row1_col4, #T_e735e_row2_col2, #T_e735e_row13_col3 {\n",
       "  text-align: left;\n",
       "  background-color: yellow;\n",
       "}\n",
       "#T_e735e_row0_col8, #T_e735e_row1_col8, #T_e735e_row2_col8, #T_e735e_row3_col8, #T_e735e_row4_col8, #T_e735e_row5_col8, #T_e735e_row6_col8, #T_e735e_row7_col8, #T_e735e_row8_col8, #T_e735e_row9_col8, #T_e735e_row10_col8, #T_e735e_row11_col8, #T_e735e_row12_col8, #T_e735e_row13_col8, #T_e735e_row14_col8 {\n",
       "  text-align: left;\n",
       "  background-color: lightgrey;\n",
       "}\n",
       "#T_e735e_row15_col8 {\n",
       "  text-align: left;\n",
       "  background-color: yellow;\n",
       "  background-color: lightgrey;\n",
       "}\n",
       "</style>\n",
       "<table id=\"T_e735e\">\n",
       "  <thead>\n",
       "    <tr>\n",
       "      <th class=\"blank level0\" >&nbsp;</th>\n",
       "      <th id=\"T_e735e_level0_col0\" class=\"col_heading level0 col0\" >Model</th>\n",
       "      <th id=\"T_e735e_level0_col1\" class=\"col_heading level0 col1\" >Accuracy</th>\n",
       "      <th id=\"T_e735e_level0_col2\" class=\"col_heading level0 col2\" >AUC</th>\n",
       "      <th id=\"T_e735e_level0_col3\" class=\"col_heading level0 col3\" >Recall</th>\n",
       "      <th id=\"T_e735e_level0_col4\" class=\"col_heading level0 col4\" >Prec.</th>\n",
       "      <th id=\"T_e735e_level0_col5\" class=\"col_heading level0 col5\" >F1</th>\n",
       "      <th id=\"T_e735e_level0_col6\" class=\"col_heading level0 col6\" >Kappa</th>\n",
       "      <th id=\"T_e735e_level0_col7\" class=\"col_heading level0 col7\" >MCC</th>\n",
       "      <th id=\"T_e735e_level0_col8\" class=\"col_heading level0 col8\" >TT (Sec)</th>\n",
       "    </tr>\n",
       "  </thead>\n",
       "  <tbody>\n",
       "    <tr>\n",
       "      <th id=\"T_e735e_level0_row0\" class=\"row_heading level0 row0\" >catboost</th>\n",
       "      <td id=\"T_e735e_row0_col0\" class=\"data row0 col0\" >CatBoost Classifier</td>\n",
       "      <td id=\"T_e735e_row0_col1\" class=\"data row0 col1\" >0.9037</td>\n",
       "      <td id=\"T_e735e_row0_col2\" class=\"data row0 col2\" >0.9058</td>\n",
       "      <td id=\"T_e735e_row0_col3\" class=\"data row0 col3\" >0.4036</td>\n",
       "      <td id=\"T_e735e_row0_col4\" class=\"data row0 col4\" >0.6402</td>\n",
       "      <td id=\"T_e735e_row0_col5\" class=\"data row0 col5\" >0.4948</td>\n",
       "      <td id=\"T_e735e_row0_col6\" class=\"data row0 col6\" >0.4446</td>\n",
       "      <td id=\"T_e735e_row0_col7\" class=\"data row0 col7\" >0.4592</td>\n",
       "      <td id=\"T_e735e_row0_col8\" class=\"data row0 col8\" >7.3820</td>\n",
       "    </tr>\n",
       "    <tr>\n",
       "      <th id=\"T_e735e_level0_row1\" class=\"row_heading level0 row1\" >gbc</th>\n",
       "      <td id=\"T_e735e_row1_col0\" class=\"data row1 col0\" >Gradient Boosting Classifier</td>\n",
       "      <td id=\"T_e735e_row1_col1\" class=\"data row1 col1\" >0.9029</td>\n",
       "      <td id=\"T_e735e_row1_col2\" class=\"data row1 col2\" >0.9040</td>\n",
       "      <td id=\"T_e735e_row1_col3\" class=\"data row1 col3\" >0.3884</td>\n",
       "      <td id=\"T_e735e_row1_col4\" class=\"data row1 col4\" >0.6411</td>\n",
       "      <td id=\"T_e735e_row1_col5\" class=\"data row1 col5\" >0.4836</td>\n",
       "      <td id=\"T_e735e_row1_col6\" class=\"data row1 col6\" >0.4336</td>\n",
       "      <td id=\"T_e735e_row1_col7\" class=\"data row1 col7\" >0.4503</td>\n",
       "      <td id=\"T_e735e_row1_col8\" class=\"data row1 col8\" >3.6220</td>\n",
       "    </tr>\n",
       "    <tr>\n",
       "      <th id=\"T_e735e_level0_row2\" class=\"row_heading level0 row2\" >lightgbm</th>\n",
       "      <td id=\"T_e735e_row2_col0\" class=\"data row2 col0\" >Light Gradient Boosting Machine</td>\n",
       "      <td id=\"T_e735e_row2_col1\" class=\"data row2 col1\" >0.9023</td>\n",
       "      <td id=\"T_e735e_row2_col2\" class=\"data row2 col2\" >0.9061</td>\n",
       "      <td id=\"T_e735e_row2_col3\" class=\"data row2 col3\" >0.3982</td>\n",
       "      <td id=\"T_e735e_row2_col4\" class=\"data row2 col4\" >0.6310</td>\n",
       "      <td id=\"T_e735e_row2_col5\" class=\"data row2 col5\" >0.4879</td>\n",
       "      <td id=\"T_e735e_row2_col6\" class=\"data row2 col6\" >0.4370</td>\n",
       "      <td id=\"T_e735e_row2_col7\" class=\"data row2 col7\" >0.4513</td>\n",
       "      <td id=\"T_e735e_row2_col8\" class=\"data row2 col8\" >0.6960</td>\n",
       "    </tr>\n",
       "    <tr>\n",
       "      <th id=\"T_e735e_level0_row3\" class=\"row_heading level0 row3\" >rf</th>\n",
       "      <td id=\"T_e735e_row3_col0\" class=\"data row3 col0\" >Random Forest Classifier</td>\n",
       "      <td id=\"T_e735e_row3_col1\" class=\"data row3 col1\" >0.9000</td>\n",
       "      <td id=\"T_e735e_row3_col2\" class=\"data row3 col2\" >0.8935</td>\n",
       "      <td id=\"T_e735e_row3_col3\" class=\"data row3 col3\" >0.3709</td>\n",
       "      <td id=\"T_e735e_row3_col4\" class=\"data row3 col4\" >0.6220</td>\n",
       "      <td id=\"T_e735e_row3_col5\" class=\"data row3 col5\" >0.4642</td>\n",
       "      <td id=\"T_e735e_row3_col6\" class=\"data row3 col6\" >0.4130</td>\n",
       "      <td id=\"T_e735e_row3_col7\" class=\"data row3 col7\" >0.4301</td>\n",
       "      <td id=\"T_e735e_row3_col8\" class=\"data row3 col8\" >2.5940</td>\n",
       "    </tr>\n",
       "    <tr>\n",
       "      <th id=\"T_e735e_level0_row4\" class=\"row_heading level0 row4\" >xgboost</th>\n",
       "      <td id=\"T_e735e_row4_col0\" class=\"data row4 col0\" >Extreme Gradient Boosting</td>\n",
       "      <td id=\"T_e735e_row4_col1\" class=\"data row4 col1\" >0.8993</td>\n",
       "      <td id=\"T_e735e_row4_col2\" class=\"data row4 col2\" >0.8994</td>\n",
       "      <td id=\"T_e735e_row4_col3\" class=\"data row4 col3\" >0.3894</td>\n",
       "      <td id=\"T_e735e_row4_col4\" class=\"data row4 col4\" >0.6089</td>\n",
       "      <td id=\"T_e735e_row4_col5\" class=\"data row4 col5\" >0.4748</td>\n",
       "      <td id=\"T_e735e_row4_col6\" class=\"data row4 col6\" >0.4222</td>\n",
       "      <td id=\"T_e735e_row4_col7\" class=\"data row4 col7\" >0.4352</td>\n",
       "      <td id=\"T_e735e_row4_col8\" class=\"data row4 col8\" >2.3640</td>\n",
       "    </tr>\n",
       "    <tr>\n",
       "      <th id=\"T_e735e_level0_row5\" class=\"row_heading level0 row5\" >ada</th>\n",
       "      <td id=\"T_e735e_row5_col0\" class=\"data row5 col0\" >Ada Boost Classifier</td>\n",
       "      <td id=\"T_e735e_row5_col1\" class=\"data row5 col1\" >0.8989</td>\n",
       "      <td id=\"T_e735e_row5_col2\" class=\"data row5 col2\" >0.8965</td>\n",
       "      <td id=\"T_e735e_row5_col3\" class=\"data row5 col3\" >0.3527</td>\n",
       "      <td id=\"T_e735e_row5_col4\" class=\"data row5 col4\" >0.6205</td>\n",
       "      <td id=\"T_e735e_row5_col5\" class=\"data row5 col5\" >0.4496</td>\n",
       "      <td id=\"T_e735e_row5_col6\" class=\"data row5 col6\" >0.3986</td>\n",
       "      <td id=\"T_e735e_row5_col7\" class=\"data row5 col7\" >0.4180</td>\n",
       "      <td id=\"T_e735e_row5_col8\" class=\"data row5 col8\" >1.0510</td>\n",
       "    </tr>\n",
       "    <tr>\n",
       "      <th id=\"T_e735e_level0_row6\" class=\"row_heading level0 row6\" >et</th>\n",
       "      <td id=\"T_e735e_row6_col0\" class=\"data row6 col0\" >Extra Trees Classifier</td>\n",
       "      <td id=\"T_e735e_row6_col1\" class=\"data row6 col1\" >0.8945</td>\n",
       "      <td id=\"T_e735e_row6_col2\" class=\"data row6 col2\" >0.8784</td>\n",
       "      <td id=\"T_e735e_row6_col3\" class=\"data row6 col3\" >0.3025</td>\n",
       "      <td id=\"T_e735e_row6_col4\" class=\"data row6 col4\" >0.5973</td>\n",
       "      <td id=\"T_e735e_row6_col5\" class=\"data row6 col5\" >0.4011</td>\n",
       "      <td id=\"T_e735e_row6_col6\" class=\"data row6 col6\" >0.3501</td>\n",
       "      <td id=\"T_e735e_row6_col7\" class=\"data row6 col7\" >0.3748</td>\n",
       "      <td id=\"T_e735e_row6_col8\" class=\"data row6 col8\" >1.8800</td>\n",
       "    </tr>\n",
       "    <tr>\n",
       "      <th id=\"T_e735e_level0_row7\" class=\"row_heading level0 row7\" >lda</th>\n",
       "      <td id=\"T_e735e_row7_col0\" class=\"data row7 col0\" >Linear Discriminant Analysis</td>\n",
       "      <td id=\"T_e735e_row7_col1\" class=\"data row7 col1\" >0.8939</td>\n",
       "      <td id=\"T_e735e_row7_col2\" class=\"data row7 col2\" >0.8735</td>\n",
       "      <td id=\"T_e735e_row7_col3\" class=\"data row7 col3\" >0.3129</td>\n",
       "      <td id=\"T_e735e_row7_col4\" class=\"data row7 col4\" >0.5875</td>\n",
       "      <td id=\"T_e735e_row7_col5\" class=\"data row7 col5\" >0.4081</td>\n",
       "      <td id=\"T_e735e_row7_col6\" class=\"data row7 col6\" >0.3558</td>\n",
       "      <td id=\"T_e735e_row7_col7\" class=\"data row7 col7\" >0.3773</td>\n",
       "      <td id=\"T_e735e_row7_col8\" class=\"data row7 col8\" >0.1980</td>\n",
       "    </tr>\n",
       "    <tr>\n",
       "      <th id=\"T_e735e_level0_row8\" class=\"row_heading level0 row8\" >lr</th>\n",
       "      <td id=\"T_e735e_row8_col0\" class=\"data row8 col0\" >Logistic Regression</td>\n",
       "      <td id=\"T_e735e_row8_col1\" class=\"data row8 col1\" >0.8932</td>\n",
       "      <td id=\"T_e735e_row8_col2\" class=\"data row8 col2\" >0.8733</td>\n",
       "      <td id=\"T_e735e_row8_col3\" class=\"data row8 col3\" >0.2383</td>\n",
       "      <td id=\"T_e735e_row8_col4\" class=\"data row8 col4\" >0.6121</td>\n",
       "      <td id=\"T_e735e_row8_col5\" class=\"data row8 col5\" >0.3428</td>\n",
       "      <td id=\"T_e735e_row8_col6\" class=\"data row8 col6\" >0.2968</td>\n",
       "      <td id=\"T_e735e_row8_col7\" class=\"data row8 col7\" >0.3364</td>\n",
       "      <td id=\"T_e735e_row8_col8\" class=\"data row8 col8\" >1.2280</td>\n",
       "    </tr>\n",
       "    <tr>\n",
       "      <th id=\"T_e735e_level0_row9\" class=\"row_heading level0 row9\" >ridge</th>\n",
       "      <td id=\"T_e735e_row9_col0\" class=\"data row9 col0\" >Ridge Classifier</td>\n",
       "      <td id=\"T_e735e_row9_col1\" class=\"data row9 col1\" >0.8890</td>\n",
       "      <td id=\"T_e735e_row9_col2\" class=\"data row9 col2\" >0.0000</td>\n",
       "      <td id=\"T_e735e_row9_col3\" class=\"data row9 col3\" >0.1284</td>\n",
       "      <td id=\"T_e735e_row9_col4\" class=\"data row9 col4\" >0.6278</td>\n",
       "      <td id=\"T_e735e_row9_col5\" class=\"data row9 col5\" >0.2128</td>\n",
       "      <td id=\"T_e735e_row9_col6\" class=\"data row9 col6\" >0.1803</td>\n",
       "      <td id=\"T_e735e_row9_col7\" class=\"data row9 col7\" >0.2484</td>\n",
       "      <td id=\"T_e735e_row9_col8\" class=\"data row9 col8\" >0.1000</td>\n",
       "    </tr>\n",
       "    <tr>\n",
       "      <th id=\"T_e735e_level0_row10\" class=\"row_heading level0 row10\" >svm</th>\n",
       "      <td id=\"T_e735e_row10_col0\" class=\"data row10 col0\" >SVM - Linear Kernel</td>\n",
       "      <td id=\"T_e735e_row10_col1\" class=\"data row10 col1\" >0.8879</td>\n",
       "      <td id=\"T_e735e_row10_col2\" class=\"data row10 col2\" >0.0000</td>\n",
       "      <td id=\"T_e735e_row10_col3\" class=\"data row10 col3\" >0.1090</td>\n",
       "      <td id=\"T_e735e_row10_col4\" class=\"data row10 col4\" >0.6045</td>\n",
       "      <td id=\"T_e735e_row10_col5\" class=\"data row10 col5\" >0.1780</td>\n",
       "      <td id=\"T_e735e_row10_col6\" class=\"data row10 col6\" >0.1508</td>\n",
       "      <td id=\"T_e735e_row10_col7\" class=\"data row10 col7\" >0.2150</td>\n",
       "      <td id=\"T_e735e_row10_col8\" class=\"data row10 col8\" >0.1880</td>\n",
       "    </tr>\n",
       "    <tr>\n",
       "      <th id=\"T_e735e_level0_row11\" class=\"row_heading level0 row11\" >knn</th>\n",
       "      <td id=\"T_e735e_row11_col0\" class=\"data row11 col0\" >K Neighbors Classifier</td>\n",
       "      <td id=\"T_e735e_row11_col1\" class=\"data row11 col1\" >0.8853</td>\n",
       "      <td id=\"T_e735e_row11_col2\" class=\"data row11 col2\" >0.7980</td>\n",
       "      <td id=\"T_e735e_row11_col3\" class=\"data row11 col3\" >0.3186</td>\n",
       "      <td id=\"T_e735e_row11_col4\" class=\"data row11 col4\" >0.5161</td>\n",
       "      <td id=\"T_e735e_row11_col5\" class=\"data row11 col5\" >0.3938</td>\n",
       "      <td id=\"T_e735e_row11_col6\" class=\"data row11 col6\" >0.3344</td>\n",
       "      <td id=\"T_e735e_row11_col7\" class=\"data row11 col7\" >0.3464</td>\n",
       "      <td id=\"T_e735e_row11_col8\" class=\"data row11 col8\" >0.9020</td>\n",
       "    </tr>\n",
       "    <tr>\n",
       "      <th id=\"T_e735e_level0_row12\" class=\"row_heading level0 row12\" >dummy</th>\n",
       "      <td id=\"T_e735e_row12_col0\" class=\"data row12 col0\" >Dummy Classifier</td>\n",
       "      <td id=\"T_e735e_row12_col1\" class=\"data row12 col1\" >0.8830</td>\n",
       "      <td id=\"T_e735e_row12_col2\" class=\"data row12 col2\" >0.5000</td>\n",
       "      <td id=\"T_e735e_row12_col3\" class=\"data row12 col3\" >0.0000</td>\n",
       "      <td id=\"T_e735e_row12_col4\" class=\"data row12 col4\" >0.0000</td>\n",
       "      <td id=\"T_e735e_row12_col5\" class=\"data row12 col5\" >0.0000</td>\n",
       "      <td id=\"T_e735e_row12_col6\" class=\"data row12 col6\" >0.0000</td>\n",
       "      <td id=\"T_e735e_row12_col7\" class=\"data row12 col7\" >0.0000</td>\n",
       "      <td id=\"T_e735e_row12_col8\" class=\"data row12 col8\" >0.1870</td>\n",
       "    </tr>\n",
       "    <tr>\n",
       "      <th id=\"T_e735e_level0_row13\" class=\"row_heading level0 row13\" >qda</th>\n",
       "      <td id=\"T_e735e_row13_col0\" class=\"data row13 col0\" >Quadratic Discriminant Analysis</td>\n",
       "      <td id=\"T_e735e_row13_col1\" class=\"data row13 col1\" >0.8604</td>\n",
       "      <td id=\"T_e735e_row13_col2\" class=\"data row13 col2\" >0.8313</td>\n",
       "      <td id=\"T_e735e_row13_col3\" class=\"data row13 col3\" >0.5355</td>\n",
       "      <td id=\"T_e735e_row13_col4\" class=\"data row13 col4\" >0.4240</td>\n",
       "      <td id=\"T_e735e_row13_col5\" class=\"data row13 col5\" >0.4731</td>\n",
       "      <td id=\"T_e735e_row13_col6\" class=\"data row13 col6\" >0.3939</td>\n",
       "      <td id=\"T_e735e_row13_col7\" class=\"data row13 col7\" >0.3976</td>\n",
       "      <td id=\"T_e735e_row13_col8\" class=\"data row13 col8\" >0.1380</td>\n",
       "    </tr>\n",
       "    <tr>\n",
       "      <th id=\"T_e735e_level0_row14\" class=\"row_heading level0 row14\" >dt</th>\n",
       "      <td id=\"T_e735e_row14_col0\" class=\"data row14 col0\" >Decision Tree Classifier</td>\n",
       "      <td id=\"T_e735e_row14_col1\" class=\"data row14 col1\" >0.8561</td>\n",
       "      <td id=\"T_e735e_row14_col2\" class=\"data row14 col2\" >0.6631</td>\n",
       "      <td id=\"T_e735e_row14_col3\" class=\"data row14 col3\" >0.4112</td>\n",
       "      <td id=\"T_e735e_row14_col4\" class=\"data row14 col4\" >0.3908</td>\n",
       "      <td id=\"T_e735e_row14_col5\" class=\"data row14 col5\" >0.4006</td>\n",
       "      <td id=\"T_e735e_row14_col6\" class=\"data row14 col6\" >0.3189</td>\n",
       "      <td id=\"T_e735e_row14_col7\" class=\"data row14 col7\" >0.3191</td>\n",
       "      <td id=\"T_e735e_row14_col8\" class=\"data row14 col8\" >0.2740</td>\n",
       "    </tr>\n",
       "    <tr>\n",
       "      <th id=\"T_e735e_level0_row15\" class=\"row_heading level0 row15\" >nb</th>\n",
       "      <td id=\"T_e735e_row15_col0\" class=\"data row15 col0\" >Naive Bayes</td>\n",
       "      <td id=\"T_e735e_row15_col1\" class=\"data row15 col1\" >0.8317</td>\n",
       "      <td id=\"T_e735e_row15_col2\" class=\"data row15 col2\" >0.8140</td>\n",
       "      <td id=\"T_e735e_row15_col3\" class=\"data row15 col3\" >0.5294</td>\n",
       "      <td id=\"T_e735e_row15_col4\" class=\"data row15 col4\" >0.3536</td>\n",
       "      <td id=\"T_e735e_row15_col5\" class=\"data row15 col5\" >0.4239</td>\n",
       "      <td id=\"T_e735e_row15_col6\" class=\"data row15 col6\" >0.3299</td>\n",
       "      <td id=\"T_e735e_row15_col7\" class=\"data row15 col7\" >0.3392</td>\n",
       "      <td id=\"T_e735e_row15_col8\" class=\"data row15 col8\" >0.0940</td>\n",
       "    </tr>\n",
       "  </tbody>\n",
       "</table>\n"
      ],
      "text/plain": [
       "<pandas.io.formats.style.Styler at 0x278608881c0>"
      ]
     },
     "metadata": {},
     "output_type": "display_data"
    },
    {
     "data": {
      "application/vnd.jupyter.widget-view+json": {
       "model_id": "",
       "version_major": 2,
       "version_minor": 0
      },
      "text/plain": [
       "Processing:   0%|          | 0/69 [00:00<?, ?it/s]"
      ]
     },
     "metadata": {},
     "output_type": "display_data"
    }
   ],
   "source": [
    "from pycaret.classification import *\n",
    "\n",
    "clf_exp = setup(data=df, target='Term Deposit', session_id=42, train_size=0.8)\n",
    "\n",
    "# Compare different models\n",
    "best_model = compare_models()\n",
    "\n",
    "# # Train the best model\n",
    "# tuned_model = tune_model(best_model)\n",
    "\n",
    "# # Evaluate the model\n",
    "# evaluate_model(tuned_model)\n",
    "\n",
    "# # Make predictions on the test set\n",
    "# predictions = predict_model(tuned_model, data=data)\n",
    "\n",
    "# # Save the model\n",
    "# save_model(tuned_model, 'final_model')\n"
   ]
  },
  {
   "cell_type": "markdown",
   "id": "4e5b0ff3",
   "metadata": {},
   "source": [
    "Catboost according to Pycaret is giving best F1 Score"
   ]
  },
  {
   "cell_type": "code",
   "execution_count": null,
   "id": "b261c8f7",
   "metadata": {},
   "outputs": [],
   "source": []
  }
 ],
 "metadata": {
  "kernelspec": {
   "display_name": "Python 3 (ipykernel)",
   "language": "python",
   "name": "python3"
  },
  "language_info": {
   "codemirror_mode": {
    "name": "ipython",
    "version": 3
   },
   "file_extension": ".py",
   "mimetype": "text/x-python",
   "name": "python",
   "nbconvert_exporter": "python",
   "pygments_lexer": "ipython3",
   "version": "3.9.12"
  }
 },
 "nbformat": 4,
 "nbformat_minor": 5
}
